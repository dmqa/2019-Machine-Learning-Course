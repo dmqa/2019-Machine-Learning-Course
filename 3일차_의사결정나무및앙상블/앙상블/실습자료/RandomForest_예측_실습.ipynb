{
 "cells": [
  {
   "cell_type": "code",
   "execution_count": 2,
   "metadata": {},
   "outputs": [],
   "source": [
    "# import modules\n",
    "import os\n",
    "import numpy as np\n",
    "import pandas as pd\n",
    "\n",
    "from sklearn.model_selection import train_test_split, GridSearchCV\n",
    "\n",
    "import matplotlib.pyplot as plt\n",
    "import seaborn as sns\n",
    "\n",
    "from sklearn.ensemble import RandomForestRegressor, BaggingRegressor\n",
    "from sklearn.tree import DecisionTreeRegressor\n",
    "from sklearn.linear_model import LinearRegression\n",
    "\n",
    "from sklearn.metrics import mean_squared_error, r2_score"
   ]
  },
  {
   "cell_type": "code",
   "execution_count": 3,
   "metadata": {},
   "outputs": [
    {
     "data": {
      "text/html": [
       "<div>\n",
       "<style scoped>\n",
       "    .dataframe tbody tr th:only-of-type {\n",
       "        vertical-align: middle;\n",
       "    }\n",
       "\n",
       "    .dataframe tbody tr th {\n",
       "        vertical-align: top;\n",
       "    }\n",
       "\n",
       "    .dataframe thead th {\n",
       "        text-align: right;\n",
       "    }\n",
       "</style>\n",
       "<table border=\"1\" class=\"dataframe\">\n",
       "  <thead>\n",
       "    <tr style=\"text-align: right;\">\n",
       "      <th></th>\n",
       "      <th>number_treatment</th>\n",
       "      <th>temperature</th>\n",
       "      <th>humidity</th>\n",
       "      <th>rain</th>\n",
       "      <th>wind</th>\n",
       "      <th>sunshine</th>\n",
       "      <th>insolation</th>\n",
       "      <th>pressure</th>\n",
       "      <th>so2</th>\n",
       "      <th>fine_dust</th>\n",
       "      <th>no2</th>\n",
       "      <th>ozone</th>\n",
       "      <th>co</th>\n",
       "      <th>blog</th>\n",
       "      <th>twitter</th>\n",
       "      <th>news</th>\n",
       "      <th>date</th>\n",
       "    </tr>\n",
       "  </thead>\n",
       "  <tbody>\n",
       "    <tr>\n",
       "      <th>0</th>\n",
       "      <td>388743</td>\n",
       "      <td>22.025106</td>\n",
       "      <td>93.278616</td>\n",
       "      <td>68.473728</td>\n",
       "      <td>2.165044</td>\n",
       "      <td>0.131501</td>\n",
       "      <td>3.086855</td>\n",
       "      <td>1009.446949</td>\n",
       "      <td>0.002651</td>\n",
       "      <td>12.263182</td>\n",
       "      <td>0.014465</td>\n",
       "      <td>0.027176</td>\n",
       "      <td>0.440329</td>\n",
       "      <td>1376</td>\n",
       "      <td>4390</td>\n",
       "      <td>38</td>\n",
       "      <td>mon</td>\n",
       "    </tr>\n",
       "    <tr>\n",
       "      <th>1</th>\n",
       "      <td>356614</td>\n",
       "      <td>19.579263</td>\n",
       "      <td>89.477751</td>\n",
       "      <td>56.664520</td>\n",
       "      <td>2.274938</td>\n",
       "      <td>0.683480</td>\n",
       "      <td>2.312161</td>\n",
       "      <td>1008.240295</td>\n",
       "      <td>0.002773</td>\n",
       "      <td>15.111833</td>\n",
       "      <td>0.015039</td>\n",
       "      <td>0.030504</td>\n",
       "      <td>0.398744</td>\n",
       "      <td>2140</td>\n",
       "      <td>5754</td>\n",
       "      <td>28</td>\n",
       "      <td>wed</td>\n",
       "    </tr>\n",
       "    <tr>\n",
       "      <th>2</th>\n",
       "      <td>272985</td>\n",
       "      <td>23.928169</td>\n",
       "      <td>89.207702</td>\n",
       "      <td>50.940484</td>\n",
       "      <td>2.260809</td>\n",
       "      <td>1.690144</td>\n",
       "      <td>4.656838</td>\n",
       "      <td>998.129844</td>\n",
       "      <td>0.003697</td>\n",
       "      <td>26.270188</td>\n",
       "      <td>0.015470</td>\n",
       "      <td>0.034050</td>\n",
       "      <td>0.389116</td>\n",
       "      <td>746</td>\n",
       "      <td>2854</td>\n",
       "      <td>40</td>\n",
       "      <td>fri</td>\n",
       "    </tr>\n",
       "    <tr>\n",
       "      <th>3</th>\n",
       "      <td>401014</td>\n",
       "      <td>23.847571</td>\n",
       "      <td>89.890942</td>\n",
       "      <td>46.451352</td>\n",
       "      <td>1.941459</td>\n",
       "      <td>0.577617</td>\n",
       "      <td>3.206160</td>\n",
       "      <td>1007.132911</td>\n",
       "      <td>0.003285</td>\n",
       "      <td>28.431403</td>\n",
       "      <td>0.015915</td>\n",
       "      <td>0.026960</td>\n",
       "      <td>0.494642</td>\n",
       "      <td>1183</td>\n",
       "      <td>4522</td>\n",
       "      <td>37</td>\n",
       "      <td>mon</td>\n",
       "    </tr>\n",
       "    <tr>\n",
       "      <th>4</th>\n",
       "      <td>508750</td>\n",
       "      <td>19.745406</td>\n",
       "      <td>82.521715</td>\n",
       "      <td>44.846233</td>\n",
       "      <td>3.147629</td>\n",
       "      <td>0.021221</td>\n",
       "      <td>2.478511</td>\n",
       "      <td>1010.317957</td>\n",
       "      <td>0.003787</td>\n",
       "      <td>44.558219</td>\n",
       "      <td>0.015271</td>\n",
       "      <td>0.039251</td>\n",
       "      <td>0.430846</td>\n",
       "      <td>1145</td>\n",
       "      <td>5686</td>\n",
       "      <td>44</td>\n",
       "      <td>mon</td>\n",
       "    </tr>\n",
       "  </tbody>\n",
       "</table>\n",
       "</div>"
      ],
      "text/plain": [
       "   number_treatment  temperature   humidity       rain      wind  sunshine  \\\n",
       "0            388743    22.025106  93.278616  68.473728  2.165044  0.131501   \n",
       "1            356614    19.579263  89.477751  56.664520  2.274938  0.683480   \n",
       "2            272985    23.928169  89.207702  50.940484  2.260809  1.690144   \n",
       "3            401014    23.847571  89.890942  46.451352  1.941459  0.577617   \n",
       "4            508750    19.745406  82.521715  44.846233  3.147629  0.021221   \n",
       "\n",
       "   insolation     pressure       so2  fine_dust       no2     ozone        co  \\\n",
       "0    3.086855  1009.446949  0.002651  12.263182  0.014465  0.027176  0.440329   \n",
       "1    2.312161  1008.240295  0.002773  15.111833  0.015039  0.030504  0.398744   \n",
       "2    4.656838   998.129844  0.003697  26.270188  0.015470  0.034050  0.389116   \n",
       "3    3.206160  1007.132911  0.003285  28.431403  0.015915  0.026960  0.494642   \n",
       "4    2.478511  1010.317957  0.003787  44.558219  0.015271  0.039251  0.430846   \n",
       "\n",
       "   blog  twitter  news date  \n",
       "0  1376     4390    38  mon  \n",
       "1  2140     5754    28  wed  \n",
       "2   746     2854    40  fri  \n",
       "3  1183     4522    37  mon  \n",
       "4  1145     5686    44  mon  "
      ]
     },
     "execution_count": 3,
     "metadata": {},
     "output_type": "execute_result"
    }
   ],
   "source": [
    "# load data\n",
    "data = pd.read_csv(os.path.join('data', 'cold.csv'))\n",
    "data.head()"
   ]
  },
  {
   "cell_type": "code",
   "execution_count": 4,
   "metadata": {},
   "outputs": [
    {
     "name": "stdout",
     "output_type": "stream",
     "text": [
      "Index(['number_treatment', 'temperature', 'humidity', 'rain', 'wind',\n",
      "       'sunshine', 'insolation', 'pressure', 'so2', 'fine_dust', 'no2',\n",
      "       'ozone', 'co', 'blog', 'twitter', 'news', 'date'],\n",
      "      dtype='object')\n"
     ]
    }
   ],
   "source": [
    "print(data.columns)"
   ]
  },
  {
   "cell_type": "code",
   "execution_count": 5,
   "metadata": {},
   "outputs": [],
   "source": [
    "# Education: dummies\n",
    "data = pd.get_dummies(data, columns=['date'], drop_first=True)"
   ]
  },
  {
   "cell_type": "code",
   "execution_count": 6,
   "metadata": {},
   "outputs": [],
   "source": [
    "# target variable: price\n",
    "y = data['number_treatment'].values\n",
    "\n",
    "X = data.drop('number_treatment', axis=1)\n",
    "xcolumns = X.columns.values\n",
    "X = X.values"
   ]
  },
  {
   "cell_type": "code",
   "execution_count": 7,
   "metadata": {},
   "outputs": [
    {
     "name": "stdout",
     "output_type": "stream",
     "text": [
      "624 observations & 21 variables\n"
     ]
    }
   ],
   "source": [
    "print('{} observations & {} variables'.format(*X.shape))"
   ]
  },
  {
   "cell_type": "code",
   "execution_count": 8,
   "metadata": {},
   "outputs": [],
   "source": [
    "# train-test split\n",
    "X_train, X_test, y_train, y_test = train_test_split(X, y,\n",
    "                                                    test_size=0.20,\n",
    "                                                    random_state=2019)"
   ]
  },
  {
   "cell_type": "code",
   "execution_count": 22,
   "metadata": {},
   "outputs": [
    {
     "data": {
      "text/plain": [
       "GridSearchCV(cv=5, error_score='raise-deprecating',\n",
       "       estimator=RandomForestRegressor(bootstrap=True, criterion='mse', max_depth=None,\n",
       "           max_features='auto', max_leaf_nodes=None,\n",
       "           min_impurity_decrease=0.0, min_impurity_split=None,\n",
       "           min_samples_leaf=1, min_samples_split=2,\n",
       "           min_weight_fraction_leaf=0.0, n_estimators='warn', n_jobs=None,\n",
       "           oob_score=False, random_state=2019, verbose=0, warm_start=False),\n",
       "       fit_params=None, iid='warn', n_jobs=None,\n",
       "       param_grid={'n_estimators': [10, 50, 100, 200], 'max_depth': [None, 2, 4, 6]},\n",
       "       pre_dispatch='2*n_jobs', refit=True, return_train_score='warn',\n",
       "       scoring=None, verbose=0)"
      ]
     },
     "execution_count": 22,
     "metadata": {},
     "output_type": "execute_result"
    }
   ],
   "source": [
    "# Grid Search\n",
    "rf = RandomForestRegressor(random_state=2019)\n",
    "\n",
    "param_grid = {'n_estimators': [10, 50, 100, 200],\n",
    "              'max_depth': [None, 2, 4, 6]}\n",
    "rf_cv = GridSearchCV(estimator=rf, param_grid=param_grid, cv=5)\n",
    "\n",
    "rf_cv.fit(X_train, y_train)"
   ]
  },
  {
   "cell_type": "code",
   "execution_count": 23,
   "metadata": {},
   "outputs": [
    {
     "name": "stdout",
     "output_type": "stream",
     "text": [
      "Best parameters (Grid Search): \n",
      " {'max_depth': None, 'n_estimators': 200}\n"
     ]
    }
   ],
   "source": [
    "print('Best parameters (Grid Search): \\n',\n",
    "      rf_cv.best_params_)"
   ]
  },
  {
   "cell_type": "code",
   "execution_count": 24,
   "metadata": {},
   "outputs": [
    {
     "name": "stdout",
     "output_type": "stream",
     "text": [
      "[Mean Squared Error]: 7491544259.68\n",
      "[R-Square          ]: 79.36%\n"
     ]
    }
   ],
   "source": [
    "y_pred = rf_cv.best_estimator_.predict(X_test)\n",
    "mse = mean_squared_error(y_test, y_pred)\n",
    "r2 = r2_score(y_test, y_pred)\n",
    "print('[Mean Squared Error]: {:.2f}'.format(mse))\n",
    "print('[R-Square          ]: {:.2f}%'.format(r2 * 100))"
   ]
  },
  {
   "cell_type": "code",
   "execution_count": 25,
   "metadata": {},
   "outputs": [
    {
     "data": {
      "image/png": "[encoded data removed]",
      "text/plain": [
       "<Figure size 576x432 with 1 Axes>"
      ]
     },
     "metadata": {
      "needs_background": "light"
     },
     "output_type": "display_data"
    }
   ],
   "source": [
    "plt.figure(figsize=(8, 6))\n",
    "plt.scatter(y_test, y_pred, s=15)\n",
    "plt.plot(y_test, y_test, alpha=0.5, lw=2, color='red')\n",
    "plt.xlabel('true', fontsize=12)\n",
    "plt.ylabel('predict', fontsize=12)\n",
    "plt.show()"
   ]
  },
  {
   "cell_type": "code",
   "execution_count": 26,
   "metadata": {},
   "outputs": [
    {
     "data": {
      "image/png": "[encoded data removed]",
      "text/plain": [
       "<Figure size 720x432 with 1 Axes>"
      ]
     },
     "metadata": {
      "needs_background": "light"
     },
     "output_type": "display_data"
    }
   ],
   "source": [
    "idx = y_test.argsort()\n",
    "\n",
    "plt.figure(figsize=(10, 6))\n",
    "plt.plot(y_test[idx], color='black', alpha=1.0)\n",
    "plt.plot(y_pred[idx], color='red', alpha=0.3)\n",
    "plt.show()"
   ]
  },
  {
   "cell_type": "code",
   "execution_count": 27,
   "metadata": {},
   "outputs": [],
   "source": [
    "# Sort: descending order\n",
    "importances = rf_cv.best_estimator_.feature_importances_\n",
    "index = np.argsort(importances)[::-1]"
   ]
  },
  {
   "cell_type": "code",
   "execution_count": 28,
   "metadata": {},
   "outputs": [
    {
     "data": {
      "image/png": "[encoded data removed]",
      "text/plain": [
       "<Figure size 576x432 with 1 Axes>"
      ]
     },
     "metadata": {
      "needs_background": "light"
     },
     "output_type": "display_data"
    }
   ],
   "source": [
    "plt.figure(figsize=(8, 6))\n",
    "plt.title('Feature Importances')\n",
    "plt.bar(range(X.shape[1]),\n",
    "        importances[index],\n",
    "        align='center')\n",
    "plt.xticks(range(X.shape[1]), xcolumns[index], rotation=90)\n",
    "plt.xlim([-1, X.shape[1]])\n",
    "plt.show()"
   ]
  },
  {
   "cell_type": "code",
   "execution_count": 42,
   "metadata": {},
   "outputs": [],
   "source": [
    "sunday_column = np.where(xcolumns == 'date_sun')[0]\n",
    "sunday = (X[:, sunday_column] == 1).reshape(-1, )"
   ]
  },
  {
   "cell_type": "code",
   "execution_count": 43,
   "metadata": {},
   "outputs": [
    {
     "data": {
      "text/plain": [
       "77925.34065934065"
      ]
     },
     "execution_count": 43,
     "metadata": {},
     "output_type": "execute_result"
    }
   ],
   "source": [
    "y[sunday].mean()"
   ]
  },
  {
   "cell_type": "code",
   "execution_count": 44,
   "metadata": {},
   "outputs": [
    {
     "data": {
      "text/plain": [
       "444165.51219512196"
      ]
     },
     "execution_count": 44,
     "metadata": {},
     "output_type": "execute_result"
    }
   ],
   "source": [
    "y[~sunday].mean()"
   ]
  }
 ],
 "metadata": {
  "kernelspec": {
   "display_name": "Python 3",
   "language": "python",
   "name": "python3"
  },
  "language_info": {
   "codemirror_mode": {
    "name": "ipython",
    "version": 3
   },
   "file_extension": ".py",
   "mimetype": "text/x-python",
   "name": "python",
   "nbconvert_exporter": "python",
   "pygments_lexer": "ipython3",
   "version": "3.7.3"
  }
 },
 "nbformat": 4,
 "nbformat_minor": 2
}
