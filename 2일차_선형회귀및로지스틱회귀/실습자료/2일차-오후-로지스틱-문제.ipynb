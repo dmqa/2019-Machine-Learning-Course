{
 "cells": [
  {
   "cell_type": "markdown",
   "metadata": {},
   "source": [
    "# 로지스틱회귀분석 3: 실전"
   ]
  },
  {
   "cell_type": "markdown",
   "metadata": {},
   "source": [
    "## 모듈 불러오기"
   ]
  },
  {
   "cell_type": "code",
   "execution_count": 23,
   "metadata": {},
   "outputs": [],
   "source": [
    "from IPython.display import display, HTML\n",
    "import numpy as np\n",
    "import pandas as pd\n",
    "\n",
    "import statsmodels.api as sm\n",
    "from sklearn.model_selection import train_test_split\n",
    "from sklearn.preprocessing import StandardScaler\n",
    "from sklearn import metrics\n",
    "from sklearn.metrics import confusion_matrix\n",
    "from sklearn.metrics import accuracy_score, roc_auc_score, roc_curve\n",
    "\n",
    "import seaborn as sns\n",
    "import matplotlib.pyplot as plt"
   ]
  },
  {
   "cell_type": "markdown",
   "metadata": {},
   "source": [
    "## 데이터 불러오기"
   ]
  },
  {
   "cell_type": "markdown",
   "metadata": {},
   "source": [
    "### Parkinson 질병 예측\n",
    "\n",
    "### 타겟변수(Y): status\n",
    "\n",
    "### 0: 정상 / 1: 환자"
   ]
  },
  {
   "cell_type": "code",
   "execution_count": 42,
   "metadata": {},
   "outputs": [
    {
     "data": {
      "text/html": [
       "<div>\n",
       "<style scoped>\n",
       "    .dataframe tbody tr th:only-of-type {\n",
       "        vertical-align: middle;\n",
       "    }\n",
       "\n",
       "    .dataframe tbody tr th {\n",
       "        vertical-align: top;\n",
       "    }\n",
       "\n",
       "    .dataframe thead th {\n",
       "        text-align: right;\n",
       "    }\n",
       "</style>\n",
       "<table border=\"1\" class=\"dataframe\">\n",
       "  <thead>\n",
       "    <tr style=\"text-align: right;\">\n",
       "      <th></th>\n",
       "      <th>name</th>\n",
       "      <th>MDVP:Fo(Hz)</th>\n",
       "      <th>MDVP:Fhi(Hz)</th>\n",
       "      <th>MDVP:Flo(Hz)</th>\n",
       "      <th>MDVP:Jitter(%)</th>\n",
       "      <th>MDVP:Jitter(Abs)</th>\n",
       "      <th>MDVP:RAP</th>\n",
       "      <th>MDVP:PPQ</th>\n",
       "      <th>Jitter:DDP</th>\n",
       "      <th>MDVP:Shimmer</th>\n",
       "      <th>...</th>\n",
       "      <th>Shimmer:DDA</th>\n",
       "      <th>NHR</th>\n",
       "      <th>HNR</th>\n",
       "      <th>status</th>\n",
       "      <th>RPDE</th>\n",
       "      <th>DFA</th>\n",
       "      <th>spread1</th>\n",
       "      <th>spread2</th>\n",
       "      <th>D2</th>\n",
       "      <th>PPE</th>\n",
       "    </tr>\n",
       "  </thead>\n",
       "  <tbody>\n",
       "    <tr>\n",
       "      <th>0</th>\n",
       "      <td>phon_R01_S01_1</td>\n",
       "      <td>119.992</td>\n",
       "      <td>157.302</td>\n",
       "      <td>74.997</td>\n",
       "      <td>0.00784</td>\n",
       "      <td>0.00007</td>\n",
       "      <td>0.00370</td>\n",
       "      <td>0.00554</td>\n",
       "      <td>0.01109</td>\n",
       "      <td>0.04374</td>\n",
       "      <td>...</td>\n",
       "      <td>0.06545</td>\n",
       "      <td>0.02211</td>\n",
       "      <td>21.033</td>\n",
       "      <td>1</td>\n",
       "      <td>0.414783</td>\n",
       "      <td>0.815285</td>\n",
       "      <td>-4.813031</td>\n",
       "      <td>0.266482</td>\n",
       "      <td>2.301442</td>\n",
       "      <td>0.284654</td>\n",
       "    </tr>\n",
       "    <tr>\n",
       "      <th>1</th>\n",
       "      <td>phon_R01_S01_2</td>\n",
       "      <td>122.400</td>\n",
       "      <td>148.650</td>\n",
       "      <td>113.819</td>\n",
       "      <td>0.00968</td>\n",
       "      <td>0.00008</td>\n",
       "      <td>0.00465</td>\n",
       "      <td>0.00696</td>\n",
       "      <td>0.01394</td>\n",
       "      <td>0.06134</td>\n",
       "      <td>...</td>\n",
       "      <td>0.09403</td>\n",
       "      <td>0.01929</td>\n",
       "      <td>19.085</td>\n",
       "      <td>1</td>\n",
       "      <td>0.458359</td>\n",
       "      <td>0.819521</td>\n",
       "      <td>-4.075192</td>\n",
       "      <td>0.335590</td>\n",
       "      <td>2.486855</td>\n",
       "      <td>0.368674</td>\n",
       "    </tr>\n",
       "    <tr>\n",
       "      <th>2</th>\n",
       "      <td>phon_R01_S01_3</td>\n",
       "      <td>116.682</td>\n",
       "      <td>131.111</td>\n",
       "      <td>111.555</td>\n",
       "      <td>0.01050</td>\n",
       "      <td>0.00009</td>\n",
       "      <td>0.00544</td>\n",
       "      <td>0.00781</td>\n",
       "      <td>0.01633</td>\n",
       "      <td>0.05233</td>\n",
       "      <td>...</td>\n",
       "      <td>0.08270</td>\n",
       "      <td>0.01309</td>\n",
       "      <td>20.651</td>\n",
       "      <td>1</td>\n",
       "      <td>0.429895</td>\n",
       "      <td>0.825288</td>\n",
       "      <td>-4.443179</td>\n",
       "      <td>0.311173</td>\n",
       "      <td>2.342259</td>\n",
       "      <td>0.332634</td>\n",
       "    </tr>\n",
       "    <tr>\n",
       "      <th>3</th>\n",
       "      <td>phon_R01_S01_4</td>\n",
       "      <td>116.676</td>\n",
       "      <td>137.871</td>\n",
       "      <td>111.366</td>\n",
       "      <td>0.00997</td>\n",
       "      <td>0.00009</td>\n",
       "      <td>0.00502</td>\n",
       "      <td>0.00698</td>\n",
       "      <td>0.01505</td>\n",
       "      <td>0.05492</td>\n",
       "      <td>...</td>\n",
       "      <td>0.08771</td>\n",
       "      <td>0.01353</td>\n",
       "      <td>20.644</td>\n",
       "      <td>1</td>\n",
       "      <td>0.434969</td>\n",
       "      <td>0.819235</td>\n",
       "      <td>-4.117501</td>\n",
       "      <td>0.334147</td>\n",
       "      <td>2.405554</td>\n",
       "      <td>0.368975</td>\n",
       "    </tr>\n",
       "    <tr>\n",
       "      <th>4</th>\n",
       "      <td>phon_R01_S01_5</td>\n",
       "      <td>116.014</td>\n",
       "      <td>141.781</td>\n",
       "      <td>110.655</td>\n",
       "      <td>0.01284</td>\n",
       "      <td>0.00011</td>\n",
       "      <td>0.00655</td>\n",
       "      <td>0.00908</td>\n",
       "      <td>0.01966</td>\n",
       "      <td>0.06425</td>\n",
       "      <td>...</td>\n",
       "      <td>0.10470</td>\n",
       "      <td>0.01767</td>\n",
       "      <td>19.649</td>\n",
       "      <td>1</td>\n",
       "      <td>0.417356</td>\n",
       "      <td>0.823484</td>\n",
       "      <td>-3.747787</td>\n",
       "      <td>0.234513</td>\n",
       "      <td>2.332180</td>\n",
       "      <td>0.410335</td>\n",
       "    </tr>\n",
       "  </tbody>\n",
       "</table>\n",
       "<p>5 rows × 24 columns</p>\n",
       "</div>"
      ],
      "text/plain": [
       "             name  MDVP:Fo(Hz)  MDVP:Fhi(Hz)  MDVP:Flo(Hz)  MDVP:Jitter(%)  \\\n",
       "0  phon_R01_S01_1      119.992       157.302        74.997         0.00784   \n",
       "1  phon_R01_S01_2      122.400       148.650       113.819         0.00968   \n",
       "2  phon_R01_S01_3      116.682       131.111       111.555         0.01050   \n",
       "3  phon_R01_S01_4      116.676       137.871       111.366         0.00997   \n",
       "4  phon_R01_S01_5      116.014       141.781       110.655         0.01284   \n",
       "\n",
       "   MDVP:Jitter(Abs)  MDVP:RAP  MDVP:PPQ  Jitter:DDP  MDVP:Shimmer    ...     \\\n",
       "0           0.00007   0.00370   0.00554     0.01109       0.04374    ...      \n",
       "1           0.00008   0.00465   0.00696     0.01394       0.06134    ...      \n",
       "2           0.00009   0.00544   0.00781     0.01633       0.05233    ...      \n",
       "3           0.00009   0.00502   0.00698     0.01505       0.05492    ...      \n",
       "4           0.00011   0.00655   0.00908     0.01966       0.06425    ...      \n",
       "\n",
       "   Shimmer:DDA      NHR     HNR  status      RPDE       DFA   spread1  \\\n",
       "0      0.06545  0.02211  21.033       1  0.414783  0.815285 -4.813031   \n",
       "1      0.09403  0.01929  19.085       1  0.458359  0.819521 -4.075192   \n",
       "2      0.08270  0.01309  20.651       1  0.429895  0.825288 -4.443179   \n",
       "3      0.08771  0.01353  20.644       1  0.434969  0.819235 -4.117501   \n",
       "4      0.10470  0.01767  19.649       1  0.417356  0.823484 -3.747787   \n",
       "\n",
       "    spread2        D2       PPE  \n",
       "0  0.266482  2.301442  0.284654  \n",
       "1  0.335590  2.486855  0.368674  \n",
       "2  0.311173  2.342259  0.332634  \n",
       "3  0.334147  2.405554  0.368975  \n",
       "4  0.234513  2.332180  0.410335  \n",
       "\n",
       "[5 rows x 24 columns]"
      ]
     },
     "execution_count": 42,
     "metadata": {},
     "output_type": "execute_result"
    }
   ],
   "source": [
    "raw_data = pd.read_csv('Data/Parkinson.csv')\n",
    "raw_data.head()"
   ]
  },
  {
   "cell_type": "markdown",
   "metadata": {},
   "source": [
    "## 데이터 전처리"
   ]
  },
  {
   "cell_type": "markdown",
   "metadata": {},
   "source": [
    "### 필요하지 않은 변수 제거"
   ]
  },
  {
   "cell_type": "code",
   "execution_count": 44,
   "metadata": {},
   "outputs": [],
   "source": [
    "data = raw_data.drop(['name', 'status'], axis=1)"
   ]
  },
  {
   "cell_type": "markdown",
   "metadata": {},
   "source": [
    "### 학습/테스트 데이터 분리"
   ]
  },
  {
   "cell_type": "code",
   "execution_count": 50,
   "metadata": {
    "scrolled": false
   },
   "outputs": [],
   "source": [
    "scaler = StandardScaler()\n",
    "scaled_data = scaler.fit_transform(data)\n",
    "scaled_data = pd.DataFrame(scaled_data, columns=data.columns)\n",
    "\n",
    "merged_data = pd.concat([raw_data[['name', 'status']], scaled_data], axis=1)\n",
    "merged_data.head()\n",
    "merged_data.to_csv('Parkinson.csv', index=False)"
   ]
  },
  {
   "cell_type": "markdown",
   "metadata": {},
   "source": [
    "### 학습 데이터와 테스트 데이터에서 클래스 비율 확인"
   ]
  },
  {
   "cell_type": "markdown",
   "metadata": {},
   "source": [
    "## 모델링"
   ]
  },
  {
   "cell_type": "code",
   "execution_count": 34,
   "metadata": {},
   "outputs": [
    {
     "name": "stdout",
     "output_type": "stream",
     "text": [
      "Optimization terminated successfully.\n",
      "         Current function value: 0.399914\n",
      "         Iterations: 19\n",
      "         Function evaluations: 26\n",
      "         Gradient evaluations: 44\n",
      "         Hessian evaluations: 19\n"
     ]
    },
    {
     "data": {
      "text/html": [
       "<table class=\"simpletable\">\n",
       "<caption>Logit Regression Results</caption>\n",
       "<tr>\n",
       "  <th>Dep. Variable:</th>         <td>y</td>        <th>  No. Observations:  </th>  <td>   136</td>  \n",
       "</tr>\n",
       "<tr>\n",
       "  <th>Model:</th>               <td>Logit</td>      <th>  Df Residuals:      </th>  <td>   114</td>  \n",
       "</tr>\n",
       "<tr>\n",
       "  <th>Method:</th>               <td>MLE</td>       <th>  Df Model:          </th>  <td>    21</td>  \n",
       "</tr>\n",
       "<tr>\n",
       "  <th>Date:</th>          <td>Tue, 23 Apr 2019</td> <th>  Pseudo R-squ.:     </th>  <td>0.3080</td>  \n",
       "</tr>\n",
       "<tr>\n",
       "  <th>Time:</th>              <td>09:22:43</td>     <th>  Log-Likelihood:    </th> <td> -54.388</td> \n",
       "</tr>\n",
       "<tr>\n",
       "  <th>converged:</th>           <td>True</td>       <th>  LL-Null:           </th> <td> -78.597</td> \n",
       "</tr>\n",
       "<tr>\n",
       "  <th> </th>                      <td> </td>        <th>  LLR p-value:       </th> <td>0.0006030</td>\n",
       "</tr>\n",
       "</table>\n",
       "<table class=\"simpletable\">\n",
       "<tr>\n",
       "   <td></td>      <th>coef</th>     <th>std err</th>      <th>z</th>      <th>P>|z|</th>  <th>[0.025</th>    <th>0.975]</th>  \n",
       "</tr>\n",
       "<tr>\n",
       "  <th>x1</th>  <td>   -1.4416</td> <td>    0.785</td> <td>   -1.837</td> <td> 0.066</td> <td>   -2.979</td> <td>    0.096</td>\n",
       "</tr>\n",
       "<tr>\n",
       "  <th>x2</th>  <td>   -0.1335</td> <td>    0.263</td> <td>   -0.507</td> <td> 0.612</td> <td>   -0.650</td> <td>    0.383</td>\n",
       "</tr>\n",
       "<tr>\n",
       "  <th>x3</th>  <td>   -0.4743</td> <td>    0.418</td> <td>   -1.133</td> <td> 0.257</td> <td>   -1.294</td> <td>    0.346</td>\n",
       "</tr>\n",
       "<tr>\n",
       "  <th>x4</th>  <td>   -5.2292</td> <td>    3.845</td> <td>   -1.360</td> <td> 0.174</td> <td>  -12.765</td> <td>    2.306</td>\n",
       "</tr>\n",
       "<tr>\n",
       "  <th>x5</th>  <td>   -1.3974</td> <td>    1.517</td> <td>   -0.921</td> <td> 0.357</td> <td>   -4.371</td> <td>    1.576</td>\n",
       "</tr>\n",
       "<tr>\n",
       "  <th>x6</th>  <td>  -64.7776</td> <td>  243.147</td> <td>   -0.266</td> <td> 0.790</td> <td> -541.336</td> <td>  411.781</td>\n",
       "</tr>\n",
       "<tr>\n",
       "  <th>x7</th>  <td>   -1.1822</td> <td>    2.691</td> <td>   -0.439</td> <td> 0.660</td> <td>   -6.457</td> <td>    4.093</td>\n",
       "</tr>\n",
       "<tr>\n",
       "  <th>x8</th>  <td>   70.9146</td> <td>  243.153</td> <td>    0.292</td> <td> 0.771</td> <td> -405.656</td> <td>  547.486</td>\n",
       "</tr>\n",
       "<tr>\n",
       "  <th>x9</th>  <td>    3.2970</td> <td>    7.512</td> <td>    0.439</td> <td> 0.661</td> <td>  -11.427</td> <td>   18.021</td>\n",
       "</tr>\n",
       "<tr>\n",
       "  <th>x10</th> <td>    0.2345</td> <td>    2.322</td> <td>    0.101</td> <td> 0.920</td> <td>   -4.317</td> <td>    4.786</td>\n",
       "</tr>\n",
       "<tr>\n",
       "  <th>x11</th> <td>  275.4257</td> <td>  938.912</td> <td>    0.293</td> <td> 0.769</td> <td>-1564.809</td> <td> 2115.660</td>\n",
       "</tr>\n",
       "<tr>\n",
       "  <th>x12</th> <td>   -1.4913</td> <td>    2.759</td> <td>   -0.541</td> <td> 0.589</td> <td>   -6.898</td> <td>    3.915</td>\n",
       "</tr>\n",
       "<tr>\n",
       "  <th>x13</th> <td>    0.7716</td> <td>    2.513</td> <td>    0.307</td> <td> 0.759</td> <td>   -4.154</td> <td>    5.697</td>\n",
       "</tr>\n",
       "<tr>\n",
       "  <th>x14</th> <td> -277.4999</td> <td>  938.878</td> <td>   -0.296</td> <td> 0.768</td> <td>-2117.667</td> <td> 1562.667</td>\n",
       "</tr>\n",
       "<tr>\n",
       "  <th>x15</th> <td>   -0.2189</td> <td>    0.739</td> <td>   -0.296</td> <td> 0.767</td> <td>   -1.667</td> <td>    1.229</td>\n",
       "</tr>\n",
       "<tr>\n",
       "  <th>x16</th> <td>   -0.3529</td> <td>    0.771</td> <td>   -0.458</td> <td> 0.647</td> <td>   -1.863</td> <td>    1.157</td>\n",
       "</tr>\n",
       "<tr>\n",
       "  <th>x17</th> <td>   -1.0628</td> <td>    0.496</td> <td>   -2.144</td> <td> 0.032</td> <td>   -2.034</td> <td>   -0.091</td>\n",
       "</tr>\n",
       "<tr>\n",
       "  <th>x18</th> <td>    0.4029</td> <td>    0.422</td> <td>    0.954</td> <td> 0.340</td> <td>   -0.425</td> <td>    1.231</td>\n",
       "</tr>\n",
       "<tr>\n",
       "  <th>x19</th> <td>    1.9403</td> <td>    1.625</td> <td>    1.194</td> <td> 0.232</td> <td>   -1.244</td> <td>    5.125</td>\n",
       "</tr>\n",
       "<tr>\n",
       "  <th>x20</th> <td>    0.5749</td> <td>    0.477</td> <td>    1.206</td> <td> 0.228</td> <td>   -0.359</td> <td>    1.509</td>\n",
       "</tr>\n",
       "<tr>\n",
       "  <th>x21</th> <td>    0.0419</td> <td>    0.479</td> <td>    0.088</td> <td> 0.930</td> <td>   -0.897</td> <td>    0.981</td>\n",
       "</tr>\n",
       "<tr>\n",
       "  <th>x22</th> <td>    0.2490</td> <td>    1.792</td> <td>    0.139</td> <td> 0.889</td> <td>   -3.263</td> <td>    3.761</td>\n",
       "</tr>\n",
       "</table>"
      ],
      "text/plain": [
       "<class 'statsmodels.iolib.summary.Summary'>\n",
       "\"\"\"\n",
       "                           Logit Regression Results                           \n",
       "==============================================================================\n",
       "Dep. Variable:                      y   No. Observations:                  136\n",
       "Model:                          Logit   Df Residuals:                      114\n",
       "Method:                           MLE   Df Model:                           21\n",
       "Date:                Tue, 23 Apr 2019   Pseudo R-squ.:                  0.3080\n",
       "Time:                        09:22:43   Log-Likelihood:                -54.388\n",
       "converged:                       True   LL-Null:                       -78.597\n",
       "                                        LLR p-value:                 0.0006030\n",
       "==============================================================================\n",
       "                 coef    std err          z      P>|z|      [0.025      0.975]\n",
       "------------------------------------------------------------------------------\n",
       "x1            -1.4416      0.785     -1.837      0.066      -2.979       0.096\n",
       "x2            -0.1335      0.263     -0.507      0.612      -0.650       0.383\n",
       "x3            -0.4743      0.418     -1.133      0.257      -1.294       0.346\n",
       "x4            -5.2292      3.845     -1.360      0.174     -12.765       2.306\n",
       "x5            -1.3974      1.517     -0.921      0.357      -4.371       1.576\n",
       "x6           -64.7776    243.147     -0.266      0.790    -541.336     411.781\n",
       "x7            -1.1822      2.691     -0.439      0.660      -6.457       4.093\n",
       "x8            70.9146    243.153      0.292      0.771    -405.656     547.486\n",
       "x9             3.2970      7.512      0.439      0.661     -11.427      18.021\n",
       "x10            0.2345      2.322      0.101      0.920      -4.317       4.786\n",
       "x11          275.4257    938.912      0.293      0.769   -1564.809    2115.660\n",
       "x12           -1.4913      2.759     -0.541      0.589      -6.898       3.915\n",
       "x13            0.7716      2.513      0.307      0.759      -4.154       5.697\n",
       "x14         -277.4999    938.878     -0.296      0.768   -2117.667    1562.667\n",
       "x15           -0.2189      0.739     -0.296      0.767      -1.667       1.229\n",
       "x16           -0.3529      0.771     -0.458      0.647      -1.863       1.157\n",
       "x17           -1.0628      0.496     -2.144      0.032      -2.034      -0.091\n",
       "x18            0.4029      0.422      0.954      0.340      -0.425       1.231\n",
       "x19            1.9403      1.625      1.194      0.232      -1.244       5.125\n",
       "x20            0.5749      0.477      1.206      0.228      -0.359       1.509\n",
       "x21            0.0419      0.479      0.088      0.930      -0.897       0.981\n",
       "x22            0.2490      1.792      0.139      0.889      -3.263       3.761\n",
       "==============================================================================\n",
       "\"\"\""
      ]
     },
     "execution_count": 34,
     "metadata": {},
     "output_type": "execute_result"
    }
   ],
   "source": [
    "logistic = sm.Logit(train_y, train_x)\n",
    "logistic_trained = logistic.fit(method='ncg')\n",
    "logistic_trained.summary()"
   ]
  },
  {
   "cell_type": "markdown",
   "metadata": {},
   "source": [
    "## 모델 결과물 확인"
   ]
  },
  {
   "cell_type": "code",
   "execution_count": 41,
   "metadata": {},
   "outputs": [
    {
     "data": {
      "text/plain": [
       "array([[32,  4],\n",
       "       [14, 86]])"
      ]
     },
     "execution_count": 41,
     "metadata": {},
     "output_type": "execute_result"
    }
   ],
   "source": [
    "confusion_matrix(train_y, logistic_trained.predict(train_x) > 0.4)"
   ]
  },
  {
   "cell_type": "code",
   "execution_count": 36,
   "metadata": {
    "scrolled": true
   },
   "outputs": [
    {
     "data": {
      "text/plain": [
       "array([[32.,  4.],\n",
       "       [21., 79.]])"
      ]
     },
     "execution_count": 36,
     "metadata": {},
     "output_type": "execute_result"
    }
   ],
   "source": [
    "logistic_trained.pred_table()"
   ]
  },
  {
   "cell_type": "markdown",
   "metadata": {},
   "source": [
    "## 확률 값을 기준(Threshold)으로 최종 클래스 결정하기"
   ]
  },
  {
   "cell_type": "code",
   "execution_count": null,
   "metadata": {},
   "outputs": [],
   "source": []
  },
  {
   "cell_type": "markdown",
   "metadata": {},
   "source": [
    "### 학습 데이터/테스트 데이터에 대한 정확도 확인"
   ]
  },
  {
   "cell_type": "code",
   "execution_count": null,
   "metadata": {},
   "outputs": [],
   "source": []
  },
  {
   "cell_type": "markdown",
   "metadata": {},
   "source": [
    "## 다양한 확률 값 Threshold에 대해 Confusion Matrix 그려보기"
   ]
  },
  {
   "cell_type": "code",
   "execution_count": null,
   "metadata": {},
   "outputs": [],
   "source": []
  },
  {
   "cell_type": "markdown",
   "metadata": {},
   "source": [
    "## 최적의 Threshold 결정하기"
   ]
  },
  {
   "cell_type": "code",
   "execution_count": null,
   "metadata": {},
   "outputs": [],
   "source": []
  },
  {
   "cell_type": "markdown",
   "metadata": {},
   "source": [
    "## 모델에서 유의하지 않은 변수 제거하기"
   ]
  },
  {
   "cell_type": "code",
   "execution_count": null,
   "metadata": {},
   "outputs": [],
   "source": []
  },
  {
   "cell_type": "markdown",
   "metadata": {},
   "source": [
    "## 모델에서 유의하지 않은 변수 제거한 이후, 최적의 Threshold 결정하기"
   ]
  },
  {
   "cell_type": "code",
   "execution_count": null,
   "metadata": {},
   "outputs": [],
   "source": []
  }
 ],
 "metadata": {
  "kernelspec": {
   "display_name": "Python 3",
   "language": "python",
   "name": "python3"
  },
  "language_info": {
   "codemirror_mode": {
    "name": "ipython",
    "version": 3
   },
   "file_extension": ".py",
   "mimetype": "text/x-python",
   "name": "python",
   "nbconvert_exporter": "python",
   "pygments_lexer": "ipython3",
   "version": "3.6.6"
  }
 },
 "nbformat": 4,
 "nbformat_minor": 2
}
