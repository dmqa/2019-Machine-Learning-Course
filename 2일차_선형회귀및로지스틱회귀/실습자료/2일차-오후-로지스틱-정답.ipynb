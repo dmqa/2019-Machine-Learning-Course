{
 "cells": [
  {
   "cell_type": "markdown",
   "metadata": {},
   "source": [
    "# 로지스틱회귀분석 3: 실전"
   ]
  },
  {
   "cell_type": "markdown",
   "metadata": {},
   "source": [
    "## 모듈 불러오기"
   ]
  },
  {
   "cell_type": "code",
   "execution_count": 2,
   "metadata": {},
   "outputs": [],
   "source": [
    "from IPython.display import display, HTML\n",
    "import numpy as np\n",
    "import pandas as pd\n",
    "\n",
    "import statsmodels.api as sm\n",
    "from sklearn.model_selection import train_test_split\n",
    "from sklearn.preprocessing import StandardScaler\n",
    "from sklearn import metrics\n",
    "from sklearn.metrics import confusion_matrix\n",
    "from sklearn.metrics import accuracy_score, roc_auc_score, roc_curve\n",
    "\n",
    "import seaborn as sns\n",
    "import matplotlib.pyplot as plt"
   ]
  },
  {
   "cell_type": "markdown",
   "metadata": {},
   "source": [
    "## 데이터 불러오기"
   ]
  },
  {
   "cell_type": "markdown",
   "metadata": {},
   "source": [
    "### Parkinson 질병 예측\n",
    "\n",
    "### 타겟변수(Y): status\n",
    "\n",
    "### 0: 정상 / 1: 환자"
   ]
  },
  {
   "cell_type": "code",
   "execution_count": 4,
   "metadata": {},
   "outputs": [
    {
     "data": {
      "text/html": [
       "<div>\n",
       "<style scoped>\n",
       "    .dataframe tbody tr th:only-of-type {\n",
       "        vertical-align: middle;\n",
       "    }\n",
       "\n",
       "    .dataframe tbody tr th {\n",
       "        vertical-align: top;\n",
       "    }\n",
       "\n",
       "    .dataframe thead th {\n",
       "        text-align: right;\n",
       "    }\n",
       "</style>\n",
       "<table border=\"1\" class=\"dataframe\">\n",
       "  <thead>\n",
       "    <tr style=\"text-align: right;\">\n",
       "      <th></th>\n",
       "      <th>name</th>\n",
       "      <th>status</th>\n",
       "      <th>MDVP:Fo(Hz)</th>\n",
       "      <th>MDVP:Fhi(Hz)</th>\n",
       "      <th>MDVP:Flo(Hz)</th>\n",
       "      <th>MDVP:Jitter(%)</th>\n",
       "      <th>MDVP:Jitter(Abs)</th>\n",
       "      <th>MDVP:RAP</th>\n",
       "      <th>MDVP:PPQ</th>\n",
       "      <th>Jitter:DDP</th>\n",
       "      <th>...</th>\n",
       "      <th>MDVP:APQ</th>\n",
       "      <th>Shimmer:DDA</th>\n",
       "      <th>NHR</th>\n",
       "      <th>HNR</th>\n",
       "      <th>RPDE</th>\n",
       "      <th>DFA</th>\n",
       "      <th>spread1</th>\n",
       "      <th>spread2</th>\n",
       "      <th>D2</th>\n",
       "      <th>PPE</th>\n",
       "    </tr>\n",
       "  </thead>\n",
       "  <tbody>\n",
       "    <tr>\n",
       "      <th>0</th>\n",
       "      <td>phon_R01_S01_1</td>\n",
       "      <td>1</td>\n",
       "      <td>-0.829300</td>\n",
       "      <td>-0.436165</td>\n",
       "      <td>-0.952037</td>\n",
       "      <td>0.334914</td>\n",
       "      <td>0.749759</td>\n",
       "      <td>0.132963</td>\n",
       "      <td>0.760800</td>\n",
       "      <td>0.131755</td>\n",
       "      <td>...</td>\n",
       "      <td>0.332985</td>\n",
       "      <td>0.607532</td>\n",
       "      <td>-0.067893</td>\n",
       "      <td>-0.193225</td>\n",
       "      <td>-0.807838</td>\n",
       "      <td>1.760814</td>\n",
       "      <td>0.801323</td>\n",
       "      <td>0.480477</td>\n",
       "      <td>-0.210531</td>\n",
       "      <td>0.868886</td>\n",
       "    </tr>\n",
       "    <tr>\n",
       "      <th>1</th>\n",
       "      <td>phon_R01_S01_2</td>\n",
       "      <td>1</td>\n",
       "      <td>-0.770972</td>\n",
       "      <td>-0.530974</td>\n",
       "      <td>-0.057721</td>\n",
       "      <td>0.715418</td>\n",
       "      <td>1.037674</td>\n",
       "      <td>0.453892</td>\n",
       "      <td>1.276809</td>\n",
       "      <td>0.452684</td>\n",
       "      <td>...</td>\n",
       "      <td>1.159454</td>\n",
       "      <td>1.548254</td>\n",
       "      <td>-0.137843</td>\n",
       "      <td>-0.634508</td>\n",
       "      <td>-0.387524</td>\n",
       "      <td>1.837562</td>\n",
       "      <td>1.479853</td>\n",
       "      <td>1.311185</td>\n",
       "      <td>0.275077</td>\n",
       "      <td>1.803605</td>\n",
       "    </tr>\n",
       "    <tr>\n",
       "      <th>2</th>\n",
       "      <td>phon_R01_S01_3</td>\n",
       "      <td>1</td>\n",
       "      <td>-0.909476</td>\n",
       "      <td>-0.723168</td>\n",
       "      <td>-0.109875</td>\n",
       "      <td>0.884991</td>\n",
       "      <td>1.325589</td>\n",
       "      <td>0.720770</td>\n",
       "      <td>1.585687</td>\n",
       "      <td>0.721813</td>\n",
       "      <td>...</td>\n",
       "      <td>0.699187</td>\n",
       "      <td>1.175323</td>\n",
       "      <td>-0.291633</td>\n",
       "      <td>-0.279760</td>\n",
       "      <td>-0.662075</td>\n",
       "      <td>1.942048</td>\n",
       "      <td>1.141445</td>\n",
       "      <td>1.017682</td>\n",
       "      <td>-0.103629</td>\n",
       "      <td>1.402661</td>\n",
       "    </tr>\n",
       "    <tr>\n",
       "      <th>3</th>\n",
       "      <td>phon_R01_S01_4</td>\n",
       "      <td>1</td>\n",
       "      <td>-0.909622</td>\n",
       "      <td>-0.649092</td>\n",
       "      <td>-0.114229</td>\n",
       "      <td>0.775389</td>\n",
       "      <td>1.325589</td>\n",
       "      <td>0.578885</td>\n",
       "      <td>1.284076</td>\n",
       "      <td>0.577677</td>\n",
       "      <td>...</td>\n",
       "      <td>0.806859</td>\n",
       "      <td>1.340229</td>\n",
       "      <td>-0.280719</td>\n",
       "      <td>-0.281346</td>\n",
       "      <td>-0.613134</td>\n",
       "      <td>1.832380</td>\n",
       "      <td>1.440945</td>\n",
       "      <td>1.293840</td>\n",
       "      <td>0.062145</td>\n",
       "      <td>1.806954</td>\n",
       "    </tr>\n",
       "    <tr>\n",
       "      <th>4</th>\n",
       "      <td>phon_R01_S01_5</td>\n",
       "      <td>1</td>\n",
       "      <td>-0.925657</td>\n",
       "      <td>-0.606245</td>\n",
       "      <td>-0.130608</td>\n",
       "      <td>1.368893</td>\n",
       "      <td>1.901418</td>\n",
       "      <td>1.095750</td>\n",
       "      <td>2.047187</td>\n",
       "      <td>1.096793</td>\n",
       "      <td>...</td>\n",
       "      <td>1.216839</td>\n",
       "      <td>1.899461</td>\n",
       "      <td>-0.178026</td>\n",
       "      <td>-0.506745</td>\n",
       "      <td>-0.783021</td>\n",
       "      <td>1.909364</td>\n",
       "      <td>1.780940</td>\n",
       "      <td>0.096195</td>\n",
       "      <td>-0.130026</td>\n",
       "      <td>2.267082</td>\n",
       "    </tr>\n",
       "  </tbody>\n",
       "</table>\n",
       "<p>5 rows × 24 columns</p>\n",
       "</div>"
      ],
      "text/plain": [
       "             name  status  MDVP:Fo(Hz)  MDVP:Fhi(Hz)  MDVP:Flo(Hz)  \\\n",
       "0  phon_R01_S01_1       1    -0.829300     -0.436165     -0.952037   \n",
       "1  phon_R01_S01_2       1    -0.770972     -0.530974     -0.057721   \n",
       "2  phon_R01_S01_3       1    -0.909476     -0.723168     -0.109875   \n",
       "3  phon_R01_S01_4       1    -0.909622     -0.649092     -0.114229   \n",
       "4  phon_R01_S01_5       1    -0.925657     -0.606245     -0.130608   \n",
       "\n",
       "   MDVP:Jitter(%)  MDVP:Jitter(Abs)  MDVP:RAP  MDVP:PPQ  Jitter:DDP    ...     \\\n",
       "0        0.334914          0.749759  0.132963  0.760800    0.131755    ...      \n",
       "1        0.715418          1.037674  0.453892  1.276809    0.452684    ...      \n",
       "2        0.884991          1.325589  0.720770  1.585687    0.721813    ...      \n",
       "3        0.775389          1.325589  0.578885  1.284076    0.577677    ...      \n",
       "4        1.368893          1.901418  1.095750  2.047187    1.096793    ...      \n",
       "\n",
       "   MDVP:APQ  Shimmer:DDA       NHR       HNR      RPDE       DFA   spread1  \\\n",
       "0  0.332985     0.607532 -0.067893 -0.193225 -0.807838  1.760814  0.801323   \n",
       "1  1.159454     1.548254 -0.137843 -0.634508 -0.387524  1.837562  1.479853   \n",
       "2  0.699187     1.175323 -0.291633 -0.279760 -0.662075  1.942048  1.141445   \n",
       "3  0.806859     1.340229 -0.280719 -0.281346 -0.613134  1.832380  1.440945   \n",
       "4  1.216839     1.899461 -0.178026 -0.506745 -0.783021  1.909364  1.780940   \n",
       "\n",
       "    spread2        D2       PPE  \n",
       "0  0.480477 -0.210531  0.868886  \n",
       "1  1.311185  0.275077  1.803605  \n",
       "2  1.017682 -0.103629  1.402661  \n",
       "3  1.293840  0.062145  1.806954  \n",
       "4  0.096195 -0.130026  2.267082  \n",
       "\n",
       "[5 rows x 24 columns]"
      ]
     },
     "execution_count": 4,
     "metadata": {},
     "output_type": "execute_result"
    }
   ],
   "source": [
    "data = pd.read_csv('Data/Parkinson.csv')\n",
    "data.head()"
   ]
  },
  {
   "cell_type": "markdown",
   "metadata": {},
   "source": [
    "## 데이터 전처리"
   ]
  },
  {
   "cell_type": "markdown",
   "metadata": {},
   "source": [
    "### 필요하지 않은 변수 제거"
   ]
  },
  {
   "cell_type": "code",
   "execution_count": 5,
   "metadata": {},
   "outputs": [],
   "source": [
    "data = data.drop('name', axis=1)"
   ]
  },
  {
   "cell_type": "markdown",
   "metadata": {},
   "source": [
    "### 학습/테스트 데이터 분리"
   ]
  },
  {
   "cell_type": "code",
   "execution_count": 6,
   "metadata": {
    "scrolled": false
   },
   "outputs": [],
   "source": [
    "train_data, test_data = train_test_split(data, test_size=0.2, random_state=55)"
   ]
  },
  {
   "cell_type": "markdown",
   "metadata": {},
   "source": [
    "### 학습 데이터와 테스트 데이터에서 클래스 비율 확인"
   ]
  },
  {
   "cell_type": "code",
   "execution_count": 7,
   "metadata": {
    "scrolled": true
   },
   "outputs": [
    {
     "data": {
      "text/plain": [
       "1    118\n",
       "0     38\n",
       "Name: status, dtype: int64"
      ]
     },
     "execution_count": 7,
     "metadata": {},
     "output_type": "execute_result"
    }
   ],
   "source": [
    "train_data['status'].value_counts()"
   ]
  },
  {
   "cell_type": "code",
   "execution_count": 8,
   "metadata": {},
   "outputs": [
    {
     "data": {
      "text/plain": [
       "1    29\n",
       "0    10\n",
       "Name: status, dtype: int64"
      ]
     },
     "execution_count": 8,
     "metadata": {},
     "output_type": "execute_result"
    }
   ],
   "source": [
    "test_data['status'].value_counts()"
   ]
  },
  {
   "cell_type": "markdown",
   "metadata": {},
   "source": [
    "## 모델링"
   ]
  },
  {
   "cell_type": "code",
   "execution_count": 9,
   "metadata": {
    "scrolled": true
   },
   "outputs": [
    {
     "name": "stdout",
     "output_type": "stream",
     "text": [
      "Optimization terminated successfully.\n",
      "         Current function value: 0.446425\n",
      "         Iterations 10\n"
     ]
    },
    {
     "data": {
      "text/html": [
       "<table class=\"simpletable\">\n",
       "<caption>Logit Regression Results</caption>\n",
       "<tr>\n",
       "  <th>Dep. Variable:</th>      <td>status</td>      <th>  No. Observations:  </th>  <td>   156</td> \n",
       "</tr>\n",
       "<tr>\n",
       "  <th>Model:</th>               <td>Logit</td>      <th>  Df Residuals:      </th>  <td>   134</td> \n",
       "</tr>\n",
       "<tr>\n",
       "  <th>Method:</th>               <td>MLE</td>       <th>  Df Model:          </th>  <td>    21</td> \n",
       "</tr>\n",
       "<tr>\n",
       "  <th>Date:</th>          <td>Tue, 23 Apr 2019</td> <th>  Pseudo R-squ.:     </th>  <td>0.1959</td> \n",
       "</tr>\n",
       "<tr>\n",
       "  <th>Time:</th>              <td>14:53:02</td>     <th>  Log-Likelihood:    </th> <td> -69.642</td>\n",
       "</tr>\n",
       "<tr>\n",
       "  <th>converged:</th>           <td>True</td>       <th>  LL-Null:           </th> <td> -86.608</td>\n",
       "</tr>\n",
       "<tr>\n",
       "  <th> </th>                      <td> </td>        <th>  LLR p-value:       </th>  <td>0.03685</td>\n",
       "</tr>\n",
       "</table>\n",
       "<table class=\"simpletable\">\n",
       "<tr>\n",
       "          <td></td>            <th>coef</th>     <th>std err</th>      <th>z</th>      <th>P>|z|</th>  <th>[0.025</th>    <th>0.975]</th>  \n",
       "</tr>\n",
       "<tr>\n",
       "  <th>MDVP:Fo(Hz)</th>      <td>   -1.1359</td> <td>    0.634</td> <td>   -1.792</td> <td> 0.073</td> <td>   -2.378</td> <td>    0.107</td>\n",
       "</tr>\n",
       "<tr>\n",
       "  <th>MDVP:Fhi(Hz)</th>     <td>    0.0176</td> <td>    0.244</td> <td>    0.072</td> <td> 0.942</td> <td>   -0.460</td> <td>    0.495</td>\n",
       "</tr>\n",
       "<tr>\n",
       "  <th>MDVP:Flo(Hz)</th>     <td>   -0.3346</td> <td>    0.353</td> <td>   -0.948</td> <td> 0.343</td> <td>   -1.026</td> <td>    0.357</td>\n",
       "</tr>\n",
       "<tr>\n",
       "  <th>MDVP:Jitter(%)</th>   <td>   -6.1660</td> <td>    3.925</td> <td>   -1.571</td> <td> 0.116</td> <td>  -13.859</td> <td>    1.527</td>\n",
       "</tr>\n",
       "<tr>\n",
       "  <th>MDVP:Jitter(Abs)</th> <td>   -0.7244</td> <td>    1.498</td> <td>   -0.483</td> <td> 0.629</td> <td>   -3.661</td> <td>    2.213</td>\n",
       "</tr>\n",
       "<tr>\n",
       "  <th>MDVP:RAP</th>         <td> -143.0350</td> <td>  254.641</td> <td>   -0.562</td> <td> 0.574</td> <td> -642.121</td> <td>  356.051</td>\n",
       "</tr>\n",
       "<tr>\n",
       "  <th>MDVP:PPQ</th>         <td>   -1.6761</td> <td>    2.416</td> <td>   -0.694</td> <td> 0.488</td> <td>   -6.412</td> <td>    3.060</td>\n",
       "</tr>\n",
       "<tr>\n",
       "  <th>Jitter:DDP</th>       <td>  150.2003</td> <td>  254.632</td> <td>    0.590</td> <td> 0.555</td> <td> -348.869</td> <td>  649.269</td>\n",
       "</tr>\n",
       "<tr>\n",
       "  <th>MDVP:Shimmer</th>     <td>    5.0427</td> <td>    6.878</td> <td>    0.733</td> <td> 0.463</td> <td>   -8.438</td> <td>   18.523</td>\n",
       "</tr>\n",
       "<tr>\n",
       "  <th>MDVP:Shimmer(dB)</th> <td>    1.5710</td> <td>    2.095</td> <td>    0.750</td> <td> 0.453</td> <td>   -2.536</td> <td>    5.678</td>\n",
       "</tr>\n",
       "<tr>\n",
       "  <th>Shimmer:APQ3</th>     <td>  298.7820</td> <td>  850.654</td> <td>    0.351</td> <td> 0.725</td> <td>-1368.470</td> <td> 1966.034</td>\n",
       "</tr>\n",
       "<tr>\n",
       "  <th>Shimmer:APQ5</th>     <td>   -2.2786</td> <td>    2.384</td> <td>   -0.956</td> <td> 0.339</td> <td>   -6.952</td> <td>    2.395</td>\n",
       "</tr>\n",
       "<tr>\n",
       "  <th>MDVP:APQ</th>         <td>   -0.6634</td> <td>    2.102</td> <td>   -0.316</td> <td> 0.752</td> <td>   -4.784</td> <td>    3.457</td>\n",
       "</tr>\n",
       "<tr>\n",
       "  <th>Shimmer:DDA</th>      <td> -301.9522</td> <td>  850.996</td> <td>   -0.355</td> <td> 0.723</td> <td>-1969.873</td> <td> 1365.969</td>\n",
       "</tr>\n",
       "<tr>\n",
       "  <th>NHR</th>              <td>   -0.4820</td> <td>    0.751</td> <td>   -0.642</td> <td> 0.521</td> <td>   -1.954</td> <td>    0.990</td>\n",
       "</tr>\n",
       "<tr>\n",
       "  <th>HNR</th>              <td>   -0.4600</td> <td>    0.686</td> <td>   -0.670</td> <td> 0.503</td> <td>   -1.805</td> <td>    0.885</td>\n",
       "</tr>\n",
       "<tr>\n",
       "  <th>RPDE</th>             <td>   -0.9077</td> <td>    0.438</td> <td>   -2.075</td> <td> 0.038</td> <td>   -1.765</td> <td>   -0.050</td>\n",
       "</tr>\n",
       "<tr>\n",
       "  <th>DFA</th>              <td>    0.2626</td> <td>    0.363</td> <td>    0.724</td> <td> 0.469</td> <td>   -0.449</td> <td>    0.974</td>\n",
       "</tr>\n",
       "<tr>\n",
       "  <th>spread1</th>          <td>    0.6010</td> <td>    1.216</td> <td>    0.494</td> <td> 0.621</td> <td>   -1.782</td> <td>    2.984</td>\n",
       "</tr>\n",
       "<tr>\n",
       "  <th>spread2</th>          <td>    0.5781</td> <td>    0.384</td> <td>    1.507</td> <td> 0.132</td> <td>   -0.174</td> <td>    1.330</td>\n",
       "</tr>\n",
       "<tr>\n",
       "  <th>D2</th>               <td>    0.0572</td> <td>    0.419</td> <td>    0.137</td> <td> 0.891</td> <td>   -0.765</td> <td>    0.879</td>\n",
       "</tr>\n",
       "<tr>\n",
       "  <th>PPE</th>              <td>    1.4074</td> <td>    1.394</td> <td>    1.009</td> <td> 0.313</td> <td>   -1.325</td> <td>    4.140</td>\n",
       "</tr>\n",
       "</table>"
      ],
      "text/plain": [
       "<class 'statsmodels.iolib.summary.Summary'>\n",
       "\"\"\"\n",
       "                           Logit Regression Results                           \n",
       "==============================================================================\n",
       "Dep. Variable:                 status   No. Observations:                  156\n",
       "Model:                          Logit   Df Residuals:                      134\n",
       "Method:                           MLE   Df Model:                           21\n",
       "Date:                Tue, 23 Apr 2019   Pseudo R-squ.:                  0.1959\n",
       "Time:                        14:53:02   Log-Likelihood:                -69.642\n",
       "converged:                       True   LL-Null:                       -86.608\n",
       "                                        LLR p-value:                   0.03685\n",
       "====================================================================================\n",
       "                       coef    std err          z      P>|z|      [0.025      0.975]\n",
       "------------------------------------------------------------------------------------\n",
       "MDVP:Fo(Hz)         -1.1359      0.634     -1.792      0.073      -2.378       0.107\n",
       "MDVP:Fhi(Hz)         0.0176      0.244      0.072      0.942      -0.460       0.495\n",
       "MDVP:Flo(Hz)        -0.3346      0.353     -0.948      0.343      -1.026       0.357\n",
       "MDVP:Jitter(%)      -6.1660      3.925     -1.571      0.116     -13.859       1.527\n",
       "MDVP:Jitter(Abs)    -0.7244      1.498     -0.483      0.629      -3.661       2.213\n",
       "MDVP:RAP          -143.0350    254.641     -0.562      0.574    -642.121     356.051\n",
       "MDVP:PPQ            -1.6761      2.416     -0.694      0.488      -6.412       3.060\n",
       "Jitter:DDP         150.2003    254.632      0.590      0.555    -348.869     649.269\n",
       "MDVP:Shimmer         5.0427      6.878      0.733      0.463      -8.438      18.523\n",
       "MDVP:Shimmer(dB)     1.5710      2.095      0.750      0.453      -2.536       5.678\n",
       "Shimmer:APQ3       298.7820    850.654      0.351      0.725   -1368.470    1966.034\n",
       "Shimmer:APQ5        -2.2786      2.384     -0.956      0.339      -6.952       2.395\n",
       "MDVP:APQ            -0.6634      2.102     -0.316      0.752      -4.784       3.457\n",
       "Shimmer:DDA       -301.9522    850.996     -0.355      0.723   -1969.873    1365.969\n",
       "NHR                 -0.4820      0.751     -0.642      0.521      -1.954       0.990\n",
       "HNR                 -0.4600      0.686     -0.670      0.503      -1.805       0.885\n",
       "RPDE                -0.9077      0.438     -2.075      0.038      -1.765      -0.050\n",
       "DFA                  0.2626      0.363      0.724      0.469      -0.449       0.974\n",
       "spread1              0.6010      1.216      0.494      0.621      -1.782       2.984\n",
       "spread2              0.5781      0.384      1.507      0.132      -0.174       1.330\n",
       "D2                   0.0572      0.419      0.137      0.891      -0.765       0.879\n",
       "PPE                  1.4074      1.394      1.009      0.313      -1.325       4.140\n",
       "====================================================================================\n",
       "\"\"\""
      ]
     },
     "execution_count": 9,
     "metadata": {},
     "output_type": "execute_result"
    }
   ],
   "source": [
    "logistic = sm.Logit(train_data['status'], train_data.drop('status', axis=1))\n",
    "logistic_trained = logistic.fit()\n",
    "logistic_trained.summary()"
   ]
  },
  {
   "cell_type": "markdown",
   "metadata": {},
   "source": [
    "## 모델 결과물 확인"
   ]
  },
  {
   "cell_type": "code",
   "execution_count": 10,
   "metadata": {},
   "outputs": [],
   "source": [
    "train_prob = logistic_trained.predict(train_data.drop('status', axis=1))\n",
    "test_prob = logistic_trained.predict(test_data.drop('status', axis=1))\n",
    "\n",
    "train_pred = (train_prob.values > 0.5).astype(np.float)\n",
    "test_pred = (test_prob.values > 0.5).astype(np.float)"
   ]
  },
  {
   "cell_type": "code",
   "execution_count": 11,
   "metadata": {
    "scrolled": true
   },
   "outputs": [
    {
     "name": "stdout",
     "output_type": "stream",
     "text": [
      "Train Accuracy: 0.7756\n",
      "Test Accuracy: 0.7436\n"
     ]
    }
   ],
   "source": [
    "print('Train Accuracy: {:.4f}'.format(accuracy_score(train_data['status'], train_pred)))\n",
    "print('Test Accuracy: {:.4f}'.format(accuracy_score(test_data['status'], test_pred)))"
   ]
  },
  {
   "cell_type": "markdown",
   "metadata": {},
   "source": [
    "## 확률 값을 기준(Threshold)으로 최종 클래스 결정하기"
   ]
  },
  {
   "cell_type": "code",
   "execution_count": 12,
   "metadata": {},
   "outputs": [],
   "source": [
    "train_prob = logistic_trained.predict(train_data.drop('status', axis=1))\n",
    "test_prob = logistic_trained.predict(test_data.drop('status', axis=1))\n",
    "\n",
    "train_pred = (train_prob.values > 0.2).astype(np.float)\n",
    "test_pred = (test_prob.values > 0.2).astype(np.float)"
   ]
  },
  {
   "cell_type": "markdown",
   "metadata": {},
   "source": [
    "### 학습 데이터/테스트 데이터에 대한 정확도 확인"
   ]
  },
  {
   "cell_type": "code",
   "execution_count": 13,
   "metadata": {},
   "outputs": [
    {
     "name": "stdout",
     "output_type": "stream",
     "text": [
      "Train Accuracy: 0.9167\n",
      "Test Accuracy: 0.8462\n"
     ]
    }
   ],
   "source": [
    "print('Train Accuracy: {:.4f}'.format(accuracy_score(train_data['status'], train_pred)))\n",
    "print('Test Accuracy: {:.4f}'.format(accuracy_score(test_data['status'], test_pred)))"
   ]
  },
  {
   "cell_type": "markdown",
   "metadata": {},
   "source": [
    "## 다양한 확률 값 Threshold에 대해 Confusion Matrix 그려보기"
   ]
  },
  {
   "cell_type": "code",
   "execution_count": 14,
   "metadata": {},
   "outputs": [
    {
     "name": "stdout",
     "output_type": "stream",
     "text": [
      "Threshold: 0.10 - Test Accuracy: 0.8718\n",
      "Threshold: 0.20 - Test Accuracy: 0.8462\n",
      "Threshold: 0.30 - Test Accuracy: 0.7692\n",
      "Threshold: 0.40 - Test Accuracy: 0.7692\n",
      "Threshold: 0.50 - Test Accuracy: 0.7436\n",
      "Threshold: 0.60 - Test Accuracy: 0.6154\n",
      "Threshold: 0.70 - Test Accuracy: 0.5385\n",
      "Threshold: 0.80 - Test Accuracy: 0.4359\n",
      "Threshold: 0.90 - Test Accuracy: 0.3846\n"
     ]
    }
   ],
   "source": [
    "for threshold in np.arange(0.1, 1.0, 0.1):\n",
    "    train_pred = (train_prob.values > threshold).astype(np.float)\n",
    "    test_pred = (test_prob.values > threshold).astype(np.float)\n",
    "    print('Threshold: {:.2f} - Test Accuracy: {:.4f}'.format(threshold, accuracy_score(test_data['status'], test_pred)))"
   ]
  },
  {
   "cell_type": "code",
   "execution_count": 15,
   "metadata": {},
   "outputs": [
    {
     "name": "stdout",
     "output_type": "stream",
     "text": [
      "Threshold: 0.10\n",
      "[[ 5  5]\n",
      " [ 0 29]]\n",
      "Threshold: 0.20\n",
      "[[ 5  5]\n",
      " [ 1 28]]\n",
      "Threshold: 0.30\n",
      "[[ 6  4]\n",
      " [ 5 24]]\n",
      "Threshold: 0.40\n",
      "[[ 7  3]\n",
      " [ 6 23]]\n",
      "Threshold: 0.50\n",
      "[[ 8  2]\n",
      " [ 8 21]]\n",
      "Threshold: 0.60\n",
      "[[ 8  2]\n",
      " [13 16]]\n",
      "Threshold: 0.70\n",
      "[[ 8  2]\n",
      " [16 13]]\n",
      "Threshold: 0.80\n",
      "[[ 9  1]\n",
      " [21  8]]\n",
      "Threshold: 0.90\n",
      "[[10  0]\n",
      " [24  5]]\n"
     ]
    }
   ],
   "source": [
    "for threshold in np.arange(0.1, 1.0, 0.1):\n",
    "    test_pred = (test_prob.values > threshold).astype(np.float)\n",
    "    print('Threshold: {:.2f}'.format(threshold))\n",
    "    print(confusion_matrix(test_data['status'], test_pred))"
   ]
  },
  {
   "cell_type": "markdown",
   "metadata": {},
   "source": [
    "## 최적의 Threshold 결정하기"
   ]
  },
  {
   "cell_type": "markdown",
   "metadata": {},
   "source": [
    "### 정확도를 기준으로"
   ]
  },
  {
   "cell_type": "code",
   "execution_count": 16,
   "metadata": {
    "scrolled": false
   },
   "outputs": [
    {
     "name": "stdout",
     "output_type": "stream",
     "text": [
      "0.8718\n",
      "0.8462\n",
      "0.7692\n",
      "0.7692\n",
      "0.7436\n",
      "0.6154\n",
      "0.5385\n",
      "0.4359\n",
      "0.3846\n"
     ]
    }
   ],
   "source": [
    "from pycm import ConfusionMatrix\n",
    "\n",
    "for threshold in np.arange(0.1, 1.0, 0.1):\n",
    "    test_pred = (test_prob.values > threshold).astype(np.float)\n",
    "    cm = ConfusionMatrix(test_data['status'].values, test_pred.astype(np.int))\n",
    "    print(np.round(cm.ACC[1], 4))"
   ]
  },
  {
   "cell_type": "markdown",
   "metadata": {},
   "source": [
    "### 환자를 환자로 판단하는 비율을 기준으로"
   ]
  },
  {
   "cell_type": "code",
   "execution_count": 17,
   "metadata": {
    "scrolled": true
   },
   "outputs": [
    {
     "name": "stdout",
     "output_type": "stream",
     "text": [
      "1.0\n",
      "0.9655\n",
      "0.8276\n",
      "0.7931\n",
      "0.7241\n",
      "0.5517\n",
      "0.4483\n",
      "0.2759\n",
      "0.1724\n"
     ]
    }
   ],
   "source": [
    "for threshold in np.arange(0.1, 1.0, 0.1):\n",
    "    test_pred = (test_prob.values > threshold).astype(np.float)\n",
    "    cm = ConfusionMatrix(test_data['status'].values, test_pred.astype(np.int))\n",
    "    print(np.round(cm.TPR[1], 4))"
   ]
  },
  {
   "cell_type": "markdown",
   "metadata": {},
   "source": [
    "### 정상을 정상으로 판단하는 비율을 기준으로"
   ]
  },
  {
   "cell_type": "code",
   "execution_count": 44,
   "metadata": {
    "scrolled": true
   },
   "outputs": [
    {
     "name": "stdout",
     "output_type": "stream",
     "text": [
      "0.5\n",
      "0.5\n",
      "0.6\n",
      "0.7\n",
      "0.8\n",
      "0.8\n",
      "0.8\n",
      "0.9\n",
      "1.0\n"
     ]
    }
   ],
   "source": [
    "for threshold in np.arange(0.1, 1.0, 0.1):\n",
    "    test_pred = (test_prob.values > threshold).astype(np.float)\n",
    "    cm = ConfusionMatrix(test_data['status'].values, test_pred.astype(np.int))\n",
    "    print(np.round(cm.TNR[1], 4))"
   ]
  },
  {
   "cell_type": "markdown",
   "metadata": {},
   "source": [
    "### F1 Score를 기준으로"
   ]
  },
  {
   "cell_type": "code",
   "execution_count": 45,
   "metadata": {
    "scrolled": true
   },
   "outputs": [
    {
     "name": "stdout",
     "output_type": "stream",
     "text": [
      "0.9206\n",
      "0.9032\n",
      "0.8421\n",
      "0.8364\n",
      "0.8077\n",
      "0.6809\n",
      "0.5909\n",
      "0.4211\n",
      "0.2941\n"
     ]
    }
   ],
   "source": [
    "for threshold in np.arange(0.1, 1.0, 0.1):\n",
    "    test_pred = (test_prob.values > threshold).astype(np.float)\n",
    "    cm = ConfusionMatrix(test_data['status'].values, test_pred.astype(np.int))\n",
    "    print(np.round(cm.F1[1], 4))"
   ]
  },
  {
   "cell_type": "markdown",
   "metadata": {},
   "source": [
    "### MCC를 기준으로"
   ]
  },
  {
   "cell_type": "code",
   "execution_count": 47,
   "metadata": {},
   "outputs": [
    {
     "name": "stdout",
     "output_type": "stream",
     "text": [
      "0.653\n",
      "0.5634\n",
      "0.4149\n",
      "0.4568\n",
      "0.4653\n",
      "0.3081\n",
      "0.2228\n",
      "0.1823\n",
      "0.2252\n"
     ]
    }
   ],
   "source": [
    "for threshold in np.arange(0.1, 1.0, 0.1):\n",
    "    test_pred = (test_prob.values > threshold).astype(np.float)\n",
    "    cm = ConfusionMatrix(test_data['status'].values, test_pred.astype(np.int))\n",
    "    print(np.round(cm.MCC[1], 4))"
   ]
  },
  {
   "cell_type": "markdown",
   "metadata": {},
   "source": [
    "## 모델에서 유의하지 않은 변수 제거하기"
   ]
  },
  {
   "cell_type": "code",
   "execution_count": null,
   "metadata": {},
   "outputs": [],
   "source": []
  },
  {
   "cell_type": "markdown",
   "metadata": {},
   "source": [
    "## 모델에서 유의하지 않은 변수 제거한 이후, 최적의 Threshold 결정하기"
   ]
  },
  {
   "cell_type": "code",
   "execution_count": null,
   "metadata": {},
   "outputs": [],
   "source": []
  }
 ],
 "metadata": {
  "kernelspec": {
   "display_name": "Python 3",
   "language": "python",
   "name": "python3"
  },
  "language_info": {
   "codemirror_mode": {
    "name": "ipython",
    "version": 3
   },
   "file_extension": ".py",
   "mimetype": "text/x-python",
   "name": "python",
   "nbconvert_exporter": "python",
   "pygments_lexer": "ipython3",
   "version": "3.6.6"
  }
 },
 "nbformat": 4,
 "nbformat_minor": 2
}
