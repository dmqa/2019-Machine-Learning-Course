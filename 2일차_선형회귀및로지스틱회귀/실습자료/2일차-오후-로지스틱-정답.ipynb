{
 "cells": [
  {
   "cell_type": "markdown",
   "metadata": {},
   "source": [
    "# 로지스틱회귀분석 3: 실전"
   ]
  },
  {
   "cell_type": "markdown",
   "metadata": {},
   "source": [
    "## 모듈 불러오기"
   ]
  },
  {
   "cell_type": "code",
   "execution_count": null,
   "metadata": {},
   "outputs": [],
   "source": [
    "from IPython.display import display, HTML\n",
    "import numpy as np\n",
    "import pandas as pd\n",
    "\n",
    "import statsmodels.api as sm\n",
    "from sklearn.model_selection import train_test_split\n",
    "from sklearn.preprocessing import StandardScaler\n",
    "from sklearn import metrics\n",
    "from sklearn.metrics import confusion_matrix\n",
    "from sklearn.metrics import accuracy_score, roc_auc_score, roc_curve\n",
    "\n",
    "import seaborn as sns\n",
    "import matplotlib.pyplot as plt"
   ]
  },
  {
   "cell_type": "markdown",
   "metadata": {},
   "source": [
    "## 데이터 불러오기"
   ]
  },
  {
   "cell_type": "markdown",
   "metadata": {},
   "source": [
    "### Parkinson 질병 예측\n",
    "\n",
    "### 타겟변수(Y): status\n",
    "\n",
    "### 0: 정상 / 1: 환자"
   ]
  },
  {
   "cell_type": "code",
   "execution_count": null,
   "metadata": {},
   "outputs": [],
   "source": [
    "data = pd.read_csv('Data/Parkinson.csv')\n",
    "data.head()"
   ]
  },
  {
   "cell_type": "markdown",
   "metadata": {},
   "source": [
    "## 데이터 전처리"
   ]
  },
  {
   "cell_type": "markdown",
   "metadata": {},
   "source": [
    "### 필요하지 않은 변수 제거"
   ]
  },
  {
   "cell_type": "code",
   "execution_count": null,
   "metadata": {},
   "outputs": [],
   "source": [
    "data = data.drop('name', axis=1)"
   ]
  },
  {
   "cell_type": "markdown",
   "metadata": {},
   "source": [
    "### 학습/테스트 데이터 분리"
   ]
  },
  {
   "cell_type": "code",
   "execution_count": null,
   "metadata": {
    "scrolled": false
   },
   "outputs": [],
   "source": [
    "train_data, test_data = train_test_split(data, test_size=0.2, random_state=55)"
   ]
  },
  {
   "cell_type": "markdown",
   "metadata": {},
   "source": [
    "### 학습 데이터와 테스트 데이터에서 클래스 비율 확인"
   ]
  },
  {
   "cell_type": "code",
   "execution_count": null,
   "metadata": {
    "scrolled": true
   },
   "outputs": [],
   "source": [
    "train_data['status'].value_counts()"
   ]
  },
  {
   "cell_type": "code",
   "execution_count": null,
   "metadata": {},
   "outputs": [],
   "source": [
    "test_data['status'].value_counts()"
   ]
  },
  {
   "cell_type": "markdown",
   "metadata": {},
   "source": [
    "## 모델링"
   ]
  },
  {
   "cell_type": "code",
   "execution_count": null,
   "metadata": {
    "scrolled": true
   },
   "outputs": [],
   "source": [
    "logistic = sm.Logit(train_data['status'], train_data.drop('status', axis=1))\n",
    "logistic_trained = logistic.fit()\n",
    "logistic_trained.summary()"
   ]
  },
  {
   "cell_type": "markdown",
   "metadata": {},
   "source": [
    "## 모델 결과물 확인"
   ]
  },
  {
   "cell_type": "code",
   "execution_count": null,
   "metadata": {},
   "outputs": [],
   "source": [
    "train_prob = logistic_trained.predict(train_data.drop('status', axis=1))\n",
    "test_prob = logistic_trained.predict(test_data.drop('status', axis=1))\n",
    "\n",
    "train_pred = (train_prob.values > 0.5).astype(np.float)\n",
    "test_pred = (test_prob.values > 0.5).astype(np.float)"
   ]
  },
  {
   "cell_type": "code",
   "execution_count": null,
   "metadata": {
    "scrolled": true
   },
   "outputs": [],
   "source": [
    "print('Train Accuracy: {:.4f}'.format(accuracy_score(train_data['status'], train_pred)))\n",
    "print('Test Accuracy: {:.4f}'.format(accuracy_score(test_data['status'], test_pred)))"
   ]
  },
  {
   "cell_type": "markdown",
   "metadata": {},
   "source": [
    "## 확률 값을 기준(Threshold)으로 최종 클래스 결정하기"
   ]
  },
  {
   "cell_type": "code",
   "execution_count": null,
   "metadata": {},
   "outputs": [],
   "source": [
    "train_prob = logistic_trained.predict(train_data.drop('status', axis=1))\n",
    "test_prob = logistic_trained.predict(test_data.drop('status', axis=1))\n",
    "\n",
    "train_pred = (train_prob.values > 0.2).astype(np.float)\n",
    "test_pred = (test_prob.values > 0.2).astype(np.float)"
   ]
  },
  {
   "cell_type": "markdown",
   "metadata": {},
   "source": [
    "### 학습 데이터/테스트 데이터에 대한 정확도 확인"
   ]
  },
  {
   "cell_type": "code",
   "execution_count": null,
   "metadata": {},
   "outputs": [],
   "source": [
    "print('Train Accuracy: {:.4f}'.format(accuracy_score(train_data['status'], train_pred)))\n",
    "print('Test Accuracy: {:.4f}'.format(accuracy_score(test_data['status'], test_pred)))"
   ]
  },
  {
   "cell_type": "markdown",
   "metadata": {},
   "source": [
    "## 다양한 확률 값 Threshold에 대해 Confusion Matrix 그려보기"
   ]
  },
  {
   "cell_type": "code",
   "execution_count": null,
   "metadata": {},
   "outputs": [],
   "source": [
    "for threshold in np.arange(0.1, 1.0, 0.1):\n",
    "    train_pred = (train_prob.values > threshold).astype(np.float)\n",
    "    test_pred = (test_prob.values > threshold).astype(np.float)\n",
    "    print('Threshold: {:.2f} - Test Accuracy: {:.4f}'.format(threshold, accuracy_score(test_data['status'], test_pred)))"
   ]
  },
  {
   "cell_type": "code",
   "execution_count": null,
   "metadata": {},
   "outputs": [],
   "source": [
    "for threshold in np.arange(0.1, 1.0, 0.1):\n",
    "    test_pred = (test_prob.values > threshold).astype(np.float)\n",
    "    print('Threshold: {:.2f}'.format(threshold))\n",
    "    print(confusion_matrix(test_data['status'], test_pred))"
   ]
  },
  {
   "cell_type": "markdown",
   "metadata": {},
   "source": [
    "## 최적의 Threshold 결정하기"
   ]
  },
  {
   "cell_type": "markdown",
   "metadata": {},
   "source": [
    "### 정확도를 기준으로"
   ]
  },
  {
   "cell_type": "code",
   "execution_count": null,
   "metadata": {
    "scrolled": true
   },
   "outputs": [],
   "source": [
    "from pycm import ConfusionMatrix\n",
    "\n",
    "for threshold in np.arange(0.1, 1.0, 0.1):\n",
    "    test_pred = (test_prob.values > threshold).astype(np.float)\n",
    "    cm = ConfusionMatrix(test_data['status'].values, test_pred.astype(np.int))\n",
    "    print(np.round(cm.ACC['1'], 4))"
   ]
  },
  {
   "cell_type": "markdown",
   "metadata": {},
   "source": [
    "### 환자를 환자로 판단하는 비율을 기준으로"
   ]
  },
  {
   "cell_type": "code",
   "execution_count": null,
   "metadata": {
    "scrolled": true
   },
   "outputs": [],
   "source": [
    "for threshold in np.arange(0.1, 1.0, 0.1):\n",
    "    test_pred = (test_prob.values > threshold).astype(np.float)\n",
    "    cm = ConfusionMatrix(test_data['status'].values, test_pred.astype(np.int))\n",
    "    print(np.round(cm.TPR['1'], 4))"
   ]
  },
  {
   "cell_type": "markdown",
   "metadata": {},
   "source": [
    "### 정상을 정상으로 판단하는 비율을 기준으로"
   ]
  },
  {
   "cell_type": "code",
   "execution_count": null,
   "metadata": {
    "scrolled": true
   },
   "outputs": [],
   "source": [
    "for threshold in np.arange(0.1, 1.0, 0.1):\n",
    "    test_pred = (test_prob.values > threshold).astype(np.float)\n",
    "    cm = ConfusionMatrix(test_data['status'].values, test_pred.astype(np.int))\n",
    "    print(np.round(cm.TNR['1'], 4))"
   ]
  },
  {
   "cell_type": "markdown",
   "metadata": {},
   "source": [
    "### F1 Score를 기준으로"
   ]
  },
  {
   "cell_type": "code",
   "execution_count": null,
   "metadata": {
    "scrolled": true
   },
   "outputs": [],
   "source": [
    "for threshold in np.arange(0.1, 1.0, 0.1):\n",
    "    test_pred = (test_prob.values > threshold).astype(np.float)\n",
    "    cm = ConfusionMatrix(test_data['status'].values, test_pred.astype(np.int))\n",
    "    print(np.round(cm.F1['1'], 4))"
   ]
  },
  {
   "cell_type": "markdown",
   "metadata": {},
   "source": [
    "### MCC를 기준으로"
   ]
  },
  {
   "cell_type": "code",
   "execution_count": null,
   "metadata": {},
   "outputs": [],
   "source": [
    "for threshold in np.arange(0.1, 1.0, 0.1):\n",
    "    test_pred = (test_prob.values > threshold).astype(np.float)\n",
    "    cm = ConfusionMatrix(test_data['status'].values, test_pred.astype(np.int))\n",
    "    print(np.round(cm.MCC['1'], 4))"
   ]
  },
  {
   "cell_type": "markdown",
   "metadata": {},
   "source": [
    "## 모델에서 유의하지 않은 변수 제거하기"
   ]
  },
  {
   "cell_type": "code",
   "execution_count": null,
   "metadata": {},
   "outputs": [],
   "source": []
  },
  {
   "cell_type": "markdown",
   "metadata": {},
   "source": [
    "## 모델에서 유의하지 않은 변수 제거한 이후, 최적의 Threshold 결정하기"
   ]
  },
  {
   "cell_type": "code",
   "execution_count": null,
   "metadata": {},
   "outputs": [],
   "source": []
  }
 ],
 "metadata": {
  "kernelspec": {
   "display_name": "Python 3",
   "language": "python",
   "name": "python3"
  },
  "language_info": {
   "codemirror_mode": {
    "name": "ipython",
    "version": 3
   },
   "file_extension": ".py",
   "mimetype": "text/x-python",
   "name": "python",
   "nbconvert_exporter": "python",
   "pygments_lexer": "ipython3",
   "version": "3.7.1"
  }
 },
 "nbformat": 4,
 "nbformat_minor": 2
}
