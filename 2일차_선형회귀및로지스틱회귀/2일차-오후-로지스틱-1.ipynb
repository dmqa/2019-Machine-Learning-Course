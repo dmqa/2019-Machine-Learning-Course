{
 "cells": [
  {
   "cell_type": "markdown",
   "metadata": {},
   "source": [
    "# [로지스틱회귀분석 실습 1: 이진분류 문제]"
   ]
  },
  {
   "cell_type": "markdown",
   "metadata": {},
   "source": [
    "## 1. 모듈 불러오기"
   ]
  },
  {
   "cell_type": "code",
   "execution_count": null,
   "metadata": {},
   "outputs": [],
   "source": [
    "from IPython.display import display, HTML\n",
    "\n",
    "# 데이터 전처리\n",
    "import numpy as np\n",
    "import pandas as pd\n",
    "\n",
    "# 기계학습 모델\n",
    "import statsmodels.api as sm\n",
    "from sklearn.model_selection import train_test_split\n",
    "import sklearn.preprocessing as preprocessing\n",
    "from sklearn import metrics\n",
    "from sklearn.metrics import confusion_matrix\n",
    "from sklearn.metrics import accuracy_score, roc_auc_score, roc_curve\n",
    "\n",
    "# 시각화\n",
    "import seaborn as sns\n",
    "import matplotlib.pyplot as plt"
   ]
  },
  {
   "cell_type": "markdown",
   "metadata": {},
   "source": [
    "## Universal bank 데이터\n",
    "#### 설명변수 및 반응변수\n",
    "- ID - 고객 고유번호 <br>\n",
    "- Age - 고객의 연령 (연속형) <br>\n",
    "- Experienc - 고객의 경력 (연속형) <br>\n",
    "- Incom - 고객의 연간 수입 (연속형) <br>\n",
    "- ZIP Code - 고객 주소 ZIP Code <br>\n",
    "- Family - 고객의 가족 규모 (연속형) <br>\n",
    "- CCAvg - 평균 신용 카드 지출 (연속형) <br>\n",
    "- Education - 교육 수준 (범주형 - 1: 대학교 졸업, 2: 대학원 졸업, 3: 고급/전문) <br>\n",
    "- Mortgag - 주택 모기지의 가치 (연속형) <br>\n",
    "- PersonalLoan - 고객은 마지막 캠페인에 제공된 개인 대출을 수락 하였나? (범주형 - 0: 아니오, 1: 예) <b>[타겟 변수]</b> <br>\n",
    "- SecuritiesAccount - 고객은 은행에 증권 계좌를 가지고 있는가? (범주형 - 0: 아니오, 1: 예) <br>\n",
    "- CDAccount - 고객은 은행에 예금 계좌를 가지고 있는가?\t(범주형 - 0: 아니오, 1: 예) <br>\n",
    "- Online - 고객이 인터넷 뱅킹 시설을 사용하는가? (범주형 - 0: 아니오, 1: 예) <br>\n",
    "- CreditCard - 고객이 Universal Bank에서 발행 한 신용 카드를 사용하는가? (범주형 - 0: 아니오, 1: 예)"
   ]
  },
  {
   "cell_type": "code",
   "execution_count": null,
   "metadata": {
    "scrolled": true
   },
   "outputs": [],
   "source": [
    "data = pd.read_csv('Data/UniversalBank.csv')\n",
    "data.head()"
   ]
  },
  {
   "cell_type": "markdown",
   "metadata": {},
   "source": [
    "## 2. 데이터 전처리 및 탐색적 데이터 분석"
   ]
  },
  {
   "cell_type": "markdown",
   "metadata": {},
   "source": [
    "### ID와 ZIP Code는 예측에 필요하지 않은 변수이므로 제거"
   ]
  },
  {
   "cell_type": "code",
   "execution_count": null,
   "metadata": {},
   "outputs": [],
   "source": [
    "data = data.drop(['ID','ZIP Code'], axis=1)\n",
    "data.head()"
   ]
  },
  {
   "cell_type": "code",
   "execution_count": null,
   "metadata": {},
   "outputs": [],
   "source": [
    "plt.figure(figsize = (8,8))\n",
    "sns.pairplot(data, hue=\"Personal Loan\")\n",
    "plt.show()"
   ]
  },
  {
   "cell_type": "markdown",
   "metadata": {},
   "source": [
    "### 나이, 수입, 평균 신용 카드 지출, 대출 여부만 가져와서 보자"
   ]
  },
  {
   "cell_type": "code",
   "execution_count": null,
   "metadata": {
    "scrolled": false
   },
   "outputs": [],
   "source": [
    "plt.figure(figsize = (8,8))\n",
    "sns.pairplot(data[['Age', 'Income', 'CCAvg', 'Personal Loan']], hue=\"Personal Loan\")\n",
    "plt.show()"
   ]
  },
  {
   "cell_type": "markdown",
   "metadata": {},
   "source": [
    "### Education 변수에 대한 더미 변수 생성\n",
    "- Education - 교육 수준 (범주형 - 1: 대학교 졸업, 2: 대학원 졸업, 3: 고급/전문) "
   ]
  },
  {
   "cell_type": "code",
   "execution_count": null,
   "metadata": {},
   "outputs": [],
   "source": [
    "data['Education'].head(10)"
   ]
  },
  {
   "cell_type": "code",
   "execution_count": null,
   "metadata": {},
   "outputs": [],
   "source": [
    "pd.get_dummies(data['Education']).head(5)"
   ]
  },
  {
   "cell_type": "code",
   "execution_count": null,
   "metadata": {},
   "outputs": [],
   "source": [
    "pd.get_dummies(data['Education'], drop_first=True).head(10)"
   ]
  },
  {
   "cell_type": "code",
   "execution_count": null,
   "metadata": {
    "scrolled": true
   },
   "outputs": [],
   "source": [
    "education_dummy = pd.get_dummies(data['Education'], drop_first=True)\n",
    "education_dummy.columns = ['Edu_Dummy_1', 'Edu_Dummy_2']\n",
    "display(education_dummy.head())"
   ]
  },
  {
   "cell_type": "markdown",
   "metadata": {},
   "source": [
    "### 기존 Education 변수 제거하고, 더미 변수 추가"
   ]
  },
  {
   "cell_type": "code",
   "execution_count": null,
   "metadata": {},
   "outputs": [],
   "source": [
    "data = data.drop('Education', axis=1)\n",
    "data.head()"
   ]
  },
  {
   "cell_type": "code",
   "execution_count": null,
   "metadata": {},
   "outputs": [],
   "source": [
    "data = pd.concat([data, education_dummy], axis=1)\n",
    "data.head()"
   ]
  },
  {
   "cell_type": "markdown",
   "metadata": {},
   "source": [
    "### 타겟 변수의 클래스 비율 확인"
   ]
  },
  {
   "cell_type": "code",
   "execution_count": null,
   "metadata": {
    "scrolled": true
   },
   "outputs": [],
   "source": [
    "display(data['Personal Loan'].value_counts())"
   ]
  },
  {
   "cell_type": "markdown",
   "metadata": {},
   "source": [
    "### 타겟 변수의 클래스 비율 유지하며 Train/Test 데이터 분리\n",
    "- 설명변수(X), 반응변수(y) 나누기"
   ]
  },
  {
   "cell_type": "code",
   "execution_count": null,
   "metadata": {},
   "outputs": [],
   "source": [
    "X = data.drop('Personal Loan', axis=1)\n",
    "X.head(10)"
   ]
  },
  {
   "cell_type": "code",
   "execution_count": null,
   "metadata": {},
   "outputs": [],
   "source": [
    "y = data['Personal Loan']\n",
    "y.head(10)"
   ]
  },
  {
   "cell_type": "markdown",
   "metadata": {},
   "source": [
    "- Training 데이터 70% / Testing 데이터 30% 나누기\n",
    "- 클래스 비율 유지: train_test_split 함수 내 stratify 옵션"
   ]
  },
  {
   "cell_type": "code",
   "execution_count": null,
   "metadata": {
    "scrolled": true
   },
   "outputs": [],
   "source": [
    "X_train, X_test, y_train, y_test = train_test_split(X,y, test_size=0.3, random_state=20190625, stratify=y)"
   ]
  },
  {
   "cell_type": "code",
   "execution_count": null,
   "metadata": {},
   "outputs": [],
   "source": [
    "print('클래스별 데이터 개수: Training 데이터  ')\n",
    "display(y_train.value_counts())\n",
    "print('클래스별 데이터 개수: Testing')\n",
    "display(y_test.value_counts())"
   ]
  },
  {
   "cell_type": "markdown",
   "metadata": {},
   "source": [
    "## 3. 모델링\n",
    "- statsmodels(sm) 의 logistic 회귀모델 (Logistic) 함수를 이용하자.\n",
    "- model = sm.logit(y데이터,x데이터)"
   ]
  },
  {
   "cell_type": "code",
   "execution_count": null,
   "metadata": {},
   "outputs": [],
   "source": [
    "model = sm.Logit(y_train, X_train)\n",
    "model_fitted = model.fit(method='newton')"
   ]
  },
  {
   "cell_type": "markdown",
   "metadata": {},
   "source": [
    "## 4. 모델 결과물 확인"
   ]
  },
  {
   "cell_type": "code",
   "execution_count": null,
   "metadata": {
    "scrolled": true
   },
   "outputs": [],
   "source": [
    "model_fitted.summary()"
   ]
  },
  {
   "cell_type": "markdown",
   "metadata": {},
   "source": [
    "#### coef 확인"
   ]
  },
  {
   "cell_type": "code",
   "execution_count": null,
   "metadata": {
    "scrolled": false
   },
   "outputs": [],
   "source": [
    "coef= model_fitted.params\n",
    "print(coef)"
   ]
  },
  {
   "cell_type": "markdown",
   "metadata": {},
   "source": [
    "#### odds ratio 확인"
   ]
  },
  {
   "cell_type": "code",
   "execution_count": null,
   "metadata": {},
   "outputs": [],
   "source": [
    "np.exp(coef)"
   ]
  },
  {
   "cell_type": "markdown",
   "metadata": {},
   "source": [
    "## 5. 모델 예측 성능 구하기\n",
    "\n",
    "### 로지스틱회귀분석 모델의 출력 값은 \"클래스 1에 속할 확률\""
   ]
  },
  {
   "cell_type": "markdown",
   "metadata": {},
   "source": [
    "- training 데이터 예측성능을 평가해보자"
   ]
  },
  {
   "cell_type": "code",
   "execution_count": null,
   "metadata": {},
   "outputs": [],
   "source": [
    "train_prob = model_fitted.predict(X_train)\n",
    "train_prob.head()"
   ]
  },
  {
   "cell_type": "code",
   "execution_count": null,
   "metadata": {},
   "outputs": [],
   "source": [
    "train_prob = model_fitted.predict(X_train)\n",
    "train_prob.head(10)"
   ]
  },
  {
   "cell_type": "code",
   "execution_count": null,
   "metadata": {
    "scrolled": true
   },
   "outputs": [],
   "source": [
    "train_prob = model_fitted.predict(X_train)\n",
    "train_results = pd.concat([train_prob, y_train], axis=1)\n",
    "train_results.columns = ['Predicted Probability of Class 1', 'Personal Loan']\n",
    "display(train_results)"
   ]
  },
  {
   "cell_type": "markdown",
   "metadata": {},
   "source": [
    "- Testing 데이터 예측성능을 평가해보자"
   ]
  },
  {
   "cell_type": "code",
   "execution_count": null,
   "metadata": {
    "scrolled": true
   },
   "outputs": [],
   "source": [
    "test_prob = model_fitted.predict(X_test)\n",
    "test_results = pd.concat([test_prob, y_test], axis=1)\n",
    "test_results.columns = ['Predicted Probability of Class 1', 'Personal Loan']\n",
    "display(test_results)"
   ]
  },
  {
   "cell_type": "markdown",
   "metadata": {},
   "source": [
    "### 확률 값을 기준으로 최종 클래스 결정 (0.5를 기준으로)"
   ]
  },
  {
   "cell_type": "code",
   "execution_count": null,
   "metadata": {},
   "outputs": [],
   "source": [
    "train_class = train_prob.copy()\n",
    "test_class = test_prob.copy()"
   ]
  },
  {
   "cell_type": "code",
   "execution_count": null,
   "metadata": {},
   "outputs": [],
   "source": [
    "train_class[train_class > 0.5] = 1\n",
    "train_class[train_class <= 0.5] = 0\n",
    "\n",
    "test_class[test_class > 0.5] = 1\n",
    "test_class[test_class <= 0.5] = 0"
   ]
  },
  {
   "cell_type": "code",
   "execution_count": null,
   "metadata": {},
   "outputs": [],
   "source": [
    "train_class.head()"
   ]
  },
  {
   "cell_type": "code",
   "execution_count": null,
   "metadata": {},
   "outputs": [],
   "source": [
    "test_class.head()"
   ]
  },
  {
   "cell_type": "markdown",
   "metadata": {},
   "source": [
    "### Train 데이터에 대한 정확도"
   ]
  },
  {
   "cell_type": "code",
   "execution_count": null,
   "metadata": {
    "scrolled": true
   },
   "outputs": [],
   "source": [
    "accuracy_score(y_train, train_class)"
   ]
  },
  {
   "cell_type": "markdown",
   "metadata": {},
   "source": [
    "### Test 데이터에 대한 정확도"
   ]
  },
  {
   "cell_type": "code",
   "execution_count": null,
   "metadata": {},
   "outputs": [],
   "source": [
    "accuracy_score(y_test, test_class)"
   ]
  },
  {
   "cell_type": "markdown",
   "metadata": {},
   "source": [
    "## 6. Classification 결과 평가"
   ]
  },
  {
   "cell_type": "code",
   "execution_count": null,
   "metadata": {},
   "outputs": [],
   "source": [
    "confusion_matrix(y_train, train_class)"
   ]
  },
  {
   "cell_type": "code",
   "execution_count": null,
   "metadata": {},
   "outputs": [],
   "source": [
    "display(pd.DataFrame(confusion_matrix(y_train, train_class), columns=[0,1], index=[0,1]))\n",
    "print('Training Accuracy: {:.3f}'.format(accuracy_score(y_train, train_class)))"
   ]
  },
  {
   "cell_type": "code",
   "execution_count": null,
   "metadata": {},
   "outputs": [],
   "source": [
    "display(pd.DataFrame(confusion_matrix(y_test, test_class), columns=[0,1], index=[0,1]))\n",
    "print('Testing Accuracy: {:.3f}'.format(accuracy_score(y_test, test_class)))"
   ]
  },
  {
   "cell_type": "markdown",
   "metadata": {},
   "source": [
    "## 7. 클래스 판단 기준 바꿔보기"
   ]
  },
  {
   "cell_type": "code",
   "execution_count": null,
   "metadata": {
    "scrolled": true
   },
   "outputs": [],
   "source": [
    "train_class_2 = train_prob.copy()\n",
    "test_class_2 = test_prob.copy()\n",
    "\n",
    "train_class_2[train_class_2 > 0.3] = 1\n",
    "train_class_2[train_class_2 <= 0.3] = 0\n",
    "\n",
    "test_class_2[test_class_2 > 0.3] = 1\n",
    "test_class_2[test_class_2 <= 0.3] = 0\n",
    "\n",
    "print('Train Accuracy: {:.3f}'.format(accuracy_score(y_train, train_class_2)))\n",
    "display(pd.DataFrame(confusion_matrix(y_train, train_class_2), columns=[0,1], index=[0,1]))\n",
    "print('Test Accuracy: {:.3f}'.format(accuracy_score(y_test, test_class_2)))\n",
    "display(pd.DataFrame(confusion_matrix(y_test, test_class_2), columns=[0,1], index=[0,1]))"
   ]
  },
  {
   "cell_type": "code",
   "execution_count": null,
   "metadata": {},
   "outputs": [],
   "source": [
    "train_class_3 = train_prob.copy()\n",
    "test_class_3 = test_prob.copy()\n",
    "\n",
    "train_class_3[train_class_3 > 0.3] = 1\n",
    "train_class_3[train_class_3 <= 0.3] = 0\n",
    "\n",
    "test_class_3[test_class_3 > 0.3] = 1\n",
    "test_class_3[test_class_3 <= 0.3] = 0\n",
    "\n",
    "print('Train Accuracy: {:.3f}'.format(accuracy_score(y_train, train_class_3)))\n",
    "display(pd.DataFrame(confusion_matrix(y_train, train_class_3), columns=[0,1], index=[0,1]))\n",
    "print('Test Accuracy: {:.3f}'.format(accuracy_score(y_test, test_class_3)))\n",
    "display(pd.DataFrame(confusion_matrix(y_test, test_class_3), columns=[0,1], index=[0,1]))"
   ]
  },
  {
   "cell_type": "markdown",
   "metadata": {},
   "source": [
    "## 8. Classification 결과 평가 심화"
   ]
  },
  {
   "cell_type": "code",
   "execution_count": null,
   "metadata": {},
   "outputs": [],
   "source": [
    "import pycm\n",
    "\n",
    "train_class_3 = train_prob.copy()\n",
    "test_class_3 = test_prob.copy()\n",
    "\n",
    "train_class_3[train_class_3 > 0.3] = 1\n",
    "train_class_3[train_class_3 <= 0.3] = 0\n",
    "\n",
    "test_class_3[test_class_3 > 0.3] = 1\n",
    "test_class_3[test_class_3 <= 0.3] = 0\n",
    "\n",
    "## array 형태로 적용, type 맞춰주기\n",
    "cm = pycm.ConfusionMatrix(y_test.values.astype(int), test_class_3.values.astype(int))"
   ]
  },
  {
   "cell_type": "code",
   "execution_count": null,
   "metadata": {
    "scrolled": true
   },
   "outputs": [],
   "source": [
    "print(cm)"
   ]
  },
  {
   "cell_type": "markdown",
   "metadata": {},
   "source": [
    "https://en.wikipedia.org/wiki/Confusion_matrix\n",
    "\n",
    "https://en.wikipedia.org/wiki/Evaluation_of_binary_classifiers"
   ]
  }
 ],
 "metadata": {
  "kernelspec": {
   "display_name": "Python 3",
   "language": "python",
   "name": "python3"
  },
  "language_info": {
   "codemirror_mode": {
    "name": "ipython",
    "version": 3
   },
   "file_extension": ".py",
   "mimetype": "text/x-python",
   "name": "python",
   "nbconvert_exporter": "python",
   "pygments_lexer": "ipython3",
   "version": "3.7.1"
  }
 },
 "nbformat": 4,
 "nbformat_minor": 2
}
