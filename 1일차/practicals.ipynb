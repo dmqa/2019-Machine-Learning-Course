{
 "cells": [
  {
   "cell_type": "markdown",
   "metadata": {},
   "source": [
    "# Practicals"
   ]
  },
  {
   "cell_type": "markdown",
   "metadata": {},
   "source": [
    "In this section, we will be covering some practical builtins and modules which will be widely used throughout this course."
   ]
  },
  {
   "cell_type": "markdown",
   "metadata": {},
   "source": [
    "## Builtins"
   ]
  },
  {
   "cell_type": "markdown",
   "metadata": {},
   "source": [
    "### List enumeration"
   ]
  },
  {
   "cell_type": "markdown",
   "metadata": {},
   "source": [
    "Usage: Perform for loop over list with index"
   ]
  },
  {
   "cell_type": "code",
   "execution_count": 1,
   "metadata": {},
   "outputs": [],
   "source": [
    "aa = [1, 7, 6, 3, 2, 7, 9, 10, 0]"
   ]
  },
  {
   "cell_type": "code",
   "execution_count": 2,
   "metadata": {},
   "outputs": [
    {
     "name": "stdout",
     "output_type": "stream",
     "text": [
      "Element 0: 1\n",
      "Element 1: 7\n",
      "Element 2: 6\n",
      "Element 3: 3\n",
      "Element 4: 2\n",
      "Element 5: 7\n",
      "Element 6: 9\n",
      "Element 7: 10\n",
      "Element 8: 0\n"
     ]
    }
   ],
   "source": [
    "# Method 1\n",
    "i = 0\n",
    "for a in aa:\n",
    "    print('Element {}: {}'.format(i, a))\n",
    "    i += 1"
   ]
  },
  {
   "cell_type": "code",
   "execution_count": 3,
   "metadata": {},
   "outputs": [
    {
     "name": "stdout",
     "output_type": "stream",
     "text": [
      "Element 0: 1\n",
      "Element 1: 7\n",
      "Element 2: 6\n",
      "Element 3: 3\n",
      "Element 4: 2\n",
      "Element 5: 7\n",
      "Element 6: 9\n",
      "Element 7: 10\n",
      "Element 8: 0\n"
     ]
    }
   ],
   "source": [
    "# Method 2\n",
    "for i, a in enumerate(aa):\n",
    "    print('Element {}: {}'.format(i, a))"
   ]
  },
  {
   "cell_type": "markdown",
   "metadata": {},
   "source": [
    "### Dictionary enumeration"
   ]
  },
  {
   "cell_type": "markdown",
   "metadata": {},
   "source": [
    "Usage: enumerating over keys or values of dictionary"
   ]
  },
  {
   "cell_type": "code",
   "execution_count": 4,
   "metadata": {},
   "outputs": [],
   "source": [
    "d = {'day 1': 'introduction',\n",
    "     'day 2': 'regression',\n",
    "     'day 3': 'trees and ensembles',\n",
    "     'day 4': 'clustering and imbalance',\n",
    "     'day 5': 'neural networks and deep learning'}"
   ]
  },
  {
   "cell_type": "code",
   "execution_count": 5,
   "metadata": {
    "scrolled": true
   },
   "outputs": [
    {
     "name": "stdout",
     "output_type": "stream",
     "text": [
      "introduction\n",
      "regression\n",
      "trees and ensembles\n",
      "clustering and imbalance\n",
      "neural networks and deep learning\n"
     ]
    }
   ],
   "source": [
    "# Method 1: enumerate over values\n",
    "for value in d.values():\n",
    "    print(value)"
   ]
  },
  {
   "cell_type": "code",
   "execution_count": 6,
   "metadata": {},
   "outputs": [
    {
     "name": "stdout",
     "output_type": "stream",
     "text": [
      "day 1 introduction\n",
      "day 2 regression\n",
      "day 3 trees and ensembles\n",
      "day 4 clustering and imbalance\n",
      "day 5 neural networks and deep learning\n"
     ]
    }
   ],
   "source": [
    "# Method 2: enumerate over keys\n",
    "for key in d.keys():\n",
    "    print(key, d[key])\n",
    "    #print(key, d.get(key))"
   ]
  },
  {
   "cell_type": "code",
   "execution_count": 7,
   "metadata": {},
   "outputs": [
    {
     "name": "stdout",
     "output_type": "stream",
     "text": [
      "day 1 introduction\n",
      "day 2 regression\n",
      "day 3 trees and ensembles\n",
      "day 4 clustering and imbalance\n",
      "day 5 neural networks and deep learning\n"
     ]
    }
   ],
   "source": [
    "# Method 3: enumerate over both keys and values\n",
    "for k, v in d.items():\n",
    "    print(k, v)"
   ]
  },
  {
   "cell_type": "code",
   "execution_count": 8,
   "metadata": {},
   "outputs": [
    {
     "name": "stdout",
     "output_type": "stream",
     "text": [
      "0 day 1 introduction\n",
      "1 day 2 regression\n",
      "2 day 3 trees and ensembles\n",
      "3 day 4 clustering and imbalance\n",
      "4 day 5 neural networks and deep learning\n"
     ]
    }
   ],
   "source": [
    "# Method 4: enumerate over both keys and values + keep track of index\n",
    "for i, (k, v) in enumerate(d.items()):\n",
    "    print(i, k, v)"
   ]
  },
  {
   "cell_type": "markdown",
   "metadata": {},
   "source": [
    "### Zip"
   ]
  },
  {
   "cell_type": "markdown",
   "metadata": {},
   "source": [
    "Usage: enumerate over to lists, pairwise"
   ]
  },
  {
   "cell_type": "code",
   "execution_count": 9,
   "metadata": {},
   "outputs": [],
   "source": [
    "days = ['day 1', 'day 2', 'day 3', 'day 4', 'day 5']\n",
    "contents = ['introduction',\n",
    "            'regression',\n",
    "            'trees and ensembles',\n",
    "            'clustering and imbalance',\n",
    "            'neural networks and deep learning']"
   ]
  },
  {
   "cell_type": "code",
   "execution_count": 10,
   "metadata": {},
   "outputs": [
    {
     "name": "stdout",
     "output_type": "stream",
     "text": [
      "day 1 introduction\n",
      "day 2 regression\n",
      "day 3 trees and ensembles\n",
      "day 4 clustering and imbalance\n",
      "day 5 neural networks and deep learning\n"
     ]
    }
   ],
   "source": [
    "# Method 1\n",
    "for day, content in zip(days, contents):\n",
    "    print(day, content)"
   ]
  },
  {
   "cell_type": "code",
   "execution_count": 11,
   "metadata": {},
   "outputs": [
    {
     "name": "stdout",
     "output_type": "stream",
     "text": [
      "0 day 1 introduction\n",
      "1 day 2 regression\n",
      "2 day 3 trees and ensembles\n",
      "3 day 4 clustering and imbalance\n",
      "4 day 5 neural networks and deep learning\n"
     ]
    }
   ],
   "source": [
    "# Method 2\n",
    "for i, (day, content) in enumerate(zip(days, contents)):\n",
    "    print(i, day, content)"
   ]
  },
  {
   "cell_type": "markdown",
   "metadata": {},
   "source": [
    "### Map"
   ]
  },
  {
   "cell_type": "markdown",
   "metadata": {},
   "source": [
    "Usage: apply a function over a list, elementwise."
   ]
  },
  {
   "cell_type": "code",
   "execution_count": 12,
   "metadata": {},
   "outputs": [],
   "source": [
    "# Method 1\n",
    "aa = [1, 2, 3, 4, 5, 6, 7]\n",
    "bb = [a + 10 for a in aa]"
   ]
  },
  {
   "cell_type": "code",
   "execution_count": 13,
   "metadata": {},
   "outputs": [
    {
     "name": "stdout",
     "output_type": "stream",
     "text": [
      "[11, 12, 13, 14, 15, 16, 17]\n"
     ]
    }
   ],
   "source": [
    "# Method 2\n",
    "aa = [1, 2, 3, 4, 5, 6, 7]\n",
    "\n",
    "def add_constant(x):\n",
    "    return x + 10\n",
    "\n",
    "bb = list(map(add_constant, aa))\n",
    "print(bb)"
   ]
  },
  {
   "cell_type": "markdown",
   "metadata": {},
   "source": [
    "### Lambda"
   ]
  },
  {
   "cell_type": "markdown",
   "metadata": {},
   "source": [
    "Usage: a short way of defining simple functions"
   ]
  },
  {
   "cell_type": "code",
   "execution_count": 14,
   "metadata": {},
   "outputs": [
    {
     "name": "stdout",
     "output_type": "stream",
     "text": [
      "[11, 12, 13, 14, 15, 16, 17]\n"
     ]
    }
   ],
   "source": [
    "# Method 1\n",
    "aa = [1, 2, 3, 4, 5, 6, 7]\n",
    "my_fn = lambda x: x + 10\n",
    "bb = list(map(my_fn, aa))\n",
    "print(bb)"
   ]
  },
  {
   "cell_type": "code",
   "execution_count": 15,
   "metadata": {},
   "outputs": [
    {
     "name": "stdout",
     "output_type": "stream",
     "text": [
      "[11, 12, 13, 14, 15, 16, 17]\n"
     ]
    }
   ],
   "source": [
    "# Method 2\n",
    "aa = [1, 2, 3, 4, 5, 6, 7]\n",
    "bb = list(map(lambda x: x + 10, aa))\n",
    "print(bb)"
   ]
  },
  {
   "cell_type": "markdown",
   "metadata": {},
   "source": [
    "### Filter"
   ]
  },
  {
   "cell_type": "markdown",
   "metadata": {},
   "source": [
    "Usage: Return items from a sequence that match a condition"
   ]
  },
  {
   "cell_type": "code",
   "execution_count": 16,
   "metadata": {},
   "outputs": [
    {
     "name": "stdout",
     "output_type": "stream",
     "text": [
      "[11, 13, 15, 17, 19]\n"
     ]
    }
   ],
   "source": [
    "# Method 1: Manual way\n",
    "def cond_fn(sequence, value=10):\n",
    "    result = []\n",
    "    for s in sequence:\n",
    "        if s > value:\n",
    "            result.append(s)\n",
    "        else:\n",
    "            pass\n",
    "    return result\n",
    "\n",
    "aa = [1, 3, 5, 7, 9, 11, 13, 15, 17, 19]\n",
    "bb = cond_fn(aa)\n",
    "print(bb)"
   ]
  },
  {
   "cell_type": "code",
   "execution_count": 17,
   "metadata": {},
   "outputs": [
    {
     "name": "stdout",
     "output_type": "stream",
     "text": [
      "[11, 13, 15, 17, 19]\n"
     ]
    }
   ],
   "source": [
    "# Method 2: Filter\n",
    "aa = [1, 3, 5, 7, 9, 11, 13, 15, 17, 19]\n",
    "bb = list(filter(lambda s: s > 10, aa))\n",
    "print(bb)"
   ]
  },
  {
   "cell_type": "markdown",
   "metadata": {},
   "source": [
    "### Reduce"
   ]
  },
  {
   "cell_type": "markdown",
   "metadata": {},
   "source": [
    "Usage: Reduce a sequence using the same operation recursively"
   ]
  },
  {
   "cell_type": "code",
   "execution_count": 18,
   "metadata": {},
   "outputs": [
    {
     "name": "stdout",
     "output_type": "stream",
     "text": [
      "3628800\n"
     ]
    }
   ],
   "source": [
    "# Method 1: Manual way\n",
    "def multiply_fn(sequence):\n",
    "    result = 1\n",
    "    for s in sequence:\n",
    "        result *= s\n",
    "    return result\n",
    "aa = [1, 2, 3, 4, 5, 6, 7, 8, 9, 10]\n",
    "a = multiply_fn(aa)\n",
    "print(a)"
   ]
  },
  {
   "cell_type": "code",
   "execution_count": 19,
   "metadata": {},
   "outputs": [
    {
     "name": "stdout",
     "output_type": "stream",
     "text": [
      "3628800\n"
     ]
    }
   ],
   "source": [
    "# Method 2: use reduce\n",
    "from functools import reduce\n",
    "aa = [1, 2, 3, 4, 5, 6, 7, 8, 9, 10]\n",
    "a = reduce(lambda x, y: x * y, aa)\n",
    "print(a)"
   ]
  },
  {
   "cell_type": "code",
   "execution_count": null,
   "metadata": {},
   "outputs": [],
   "source": []
  }
 ],
 "metadata": {
  "kernelspec": {
   "display_name": "Python 3",
   "language": "python",
   "name": "python3"
  },
  "language_info": {
   "codemirror_mode": {
    "name": "ipython",
    "version": 3
   },
   "file_extension": ".py",
   "mimetype": "text/x-python",
   "name": "python",
   "nbconvert_exporter": "python",
   "pygments_lexer": "ipython3",
   "version": "3.6.8"
  }
 },
 "nbformat": 4,
 "nbformat_minor": 2
}
