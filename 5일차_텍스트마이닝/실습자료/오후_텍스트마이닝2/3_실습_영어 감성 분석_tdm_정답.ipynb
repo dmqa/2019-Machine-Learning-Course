{
 "cells": [
  {
   "cell_type": "markdown",
   "metadata": {},
   "source": [
    "# [영어 감성 분석 실습: 영어 전처리 및 TDM]\n"
   ]
  },
  {
   "cell_type": "markdown",
   "metadata": {},
   "source": [
    "### jupyter notebook 단축키\n",
    "\n",
    "- ctrl+enter: 셀 실행   \n",
    "- shift+enter: 셀 실행 및 다음 셀 이동   \n",
    "- alt+enter: 셀 실행, 다음 셀 이동, 새로운 셀 생성\n",
    "- a: 상단에 새로운 셀 만들기\n",
    "- b: 하단에 새로운 셀 만들기\n",
    "- dd: 셀 삭제(x: 셀 삭제)\n",
    "- y: Code로 변경\n",
    "- m: Markdown으로 변경"
   ]
  },
  {
   "cell_type": "markdown",
   "metadata": {},
   "source": [
    "## 1. 모듈 불러오기\n",
    "\n",
    "#### import '불러올 패키지명' as '그 패키지를 파이썬에서 사용할 이름'"
   ]
  },
  {
   "cell_type": "code",
   "execution_count": 1,
   "metadata": {
    "scrolled": true
   },
   "outputs": [],
   "source": [
    "# Data preprocessing\n",
    "import konlpy\n",
    "from konlpy.tag import Hannanum, Kkma, Komoran\n",
    "\n",
    "import nltk\n",
    "from nltk.tokenize import word_tokenize\n",
    "#nltk.download()\n",
    "from nltk.stem import WordNetLemmatizer\n",
    "from nltk.corpus import stopwords\n",
    "\n",
    "# Document representation \n",
    "import sklearn\n",
    "from sklearn.feature_extraction.text import CountVectorizer\n",
    "from gensim.models.doc2vec import Doc2Vec\n",
    "from gensim.models.doc2vec import Doc2Vec, TaggedDocument\n",
    "\n",
    "# Document classifier\n",
    "from sklearn import svm\n",
    "from sklearn.tree import DecisionTreeClassifier\n",
    "from sklearn.ensemble import RandomForestClassifier\n",
    "from sklearn.ensemble import GradientBoostingClassifier\n",
    "\n",
    "# Classifier measure\n",
    "from sklearn.metrics import accuracy_score\n",
    "\n",
    "import re\n",
    "import sys\n",
    "import os\n",
    "import time\n",
    "import random\n",
    "import pandas as pd\n",
    "import numpy as np\n",
    "\n",
    "import pickle"
   ]
  },
  {
   "cell_type": "markdown",
   "metadata": {},
   "source": [
    "## 2. 데이터 불러오기: English Movie Review Data\n",
    "\n",
    "#### 데이터 구조\n",
    "- 데이터: 영어 영화 리뷰 데이터  \n",
    "- 관측치 건수: 2000건\n",
    "- 변수 개수: 설명변수 1개 / 반응변수 1개\n",
    "\n",
    "#### 설명 변수(원인: 예측값을 설명할 수 있는 변수)      \n",
    "- review: 영화 리뷰 데이터(Document)\n",
    "\n",
    "\n",
    "#### 반응 변수(결과: 예측하고자 하는 값)\n",
    "- sentiment: 리뷰의 감정 (긍정:1/ 부정:-1)"
   ]
  },
  {
   "cell_type": "code",
   "execution_count": 2,
   "metadata": {},
   "outputs": [],
   "source": [
    "train_data = pd.read_csv('data/english_train.csv',encoding='utf-8', engine='python', index_col=0)\n",
    "test_data = pd.read_csv('data/english_test.csv', encoding='utf-8', engine='python',index_col=0)"
   ]
  },
  {
   "cell_type": "markdown",
   "metadata": {},
   "source": [
    "## 3. 데이터 구성"
   ]
  },
  {
   "cell_type": "markdown",
   "metadata": {},
   "source": [
    "### - 3.1 train 데이터 및 test 데이터 갯수 확인"
   ]
  },
  {
   "cell_type": "code",
   "execution_count": 3,
   "metadata": {},
   "outputs": [
    {
     "name": "stdout",
     "output_type": "stream",
     "text": [
      "DATA COLUMNS NAMES: ['reviews', 'sentiment']\n",
      "\n",
      "\n",
      "TRAIN DATA SHAPE: (1800, 2)\n",
      "TEST  DATA SHAPE: (200, 2)\n"
     ]
    }
   ],
   "source": [
    "print('DATA COLUMNS NAMES: {}'.format(list(train_data.columns)))\n",
    "print('\\n')\n",
    "print('TRAIN DATA SHAPE: {}'.format(train_data.shape))\n",
    "print('TEST  DATA SHAPE: {}'.format(test_data.shape))"
   ]
  },
  {
   "cell_type": "markdown",
   "metadata": {},
   "source": [
    "### - 3.2 train/test 데이터 병합"
   ]
  },
  {
   "cell_type": "code",
   "execution_count": 4,
   "metadata": {},
   "outputs": [],
   "source": [
    "whole_data = pd.concat([train_data, test_data]).reset_index(drop=True)"
   ]
  },
  {
   "cell_type": "code",
   "execution_count": 5,
   "metadata": {},
   "outputs": [
    {
     "data": {
      "text/html": [
       "<div>\n",
       "<style scoped>\n",
       "    .dataframe tbody tr th:only-of-type {\n",
       "        vertical-align: middle;\n",
       "    }\n",
       "\n",
       "    .dataframe tbody tr th {\n",
       "        vertical-align: top;\n",
       "    }\n",
       "\n",
       "    .dataframe thead th {\n",
       "        text-align: right;\n",
       "    }\n",
       "</style>\n",
       "<table border=\"1\" class=\"dataframe\">\n",
       "  <thead>\n",
       "    <tr style=\"text-align: right;\">\n",
       "      <th></th>\n",
       "      <th>reviews</th>\n",
       "      <th>sentiment</th>\n",
       "    </tr>\n",
       "  </thead>\n",
       "  <tbody>\n",
       "    <tr>\n",
       "      <th>0</th>\n",
       "      <td>films adapted from comic books have had plenty...</td>\n",
       "      <td>1</td>\n",
       "    </tr>\n",
       "    <tr>\n",
       "      <th>1</th>\n",
       "      <td>every now and then a movie comes along from a ...</td>\n",
       "      <td>1</td>\n",
       "    </tr>\n",
       "    <tr>\n",
       "      <th>2</th>\n",
       "      <td>you've got mail works alot better than it dese...</td>\n",
       "      <td>1</td>\n",
       "    </tr>\n",
       "    <tr>\n",
       "      <th>3</th>\n",
       "      <td>\" jaws \" is a rare film that grabs your atten...</td>\n",
       "      <td>1</td>\n",
       "    </tr>\n",
       "    <tr>\n",
       "      <th>4</th>\n",
       "      <td>moviemaking is a lot like being the general ma...</td>\n",
       "      <td>1</td>\n",
       "    </tr>\n",
       "  </tbody>\n",
       "</table>\n",
       "</div>"
      ],
      "text/plain": [
       "                                             reviews  sentiment\n",
       "0  films adapted from comic books have had plenty...          1\n",
       "1  every now and then a movie comes along from a ...          1\n",
       "2  you've got mail works alot better than it dese...          1\n",
       "3   \" jaws \" is a rare film that grabs your atten...          1\n",
       "4  moviemaking is a lot like being the general ma...          1"
      ]
     },
     "execution_count": 5,
     "metadata": {},
     "output_type": "execute_result"
    }
   ],
   "source": [
    "whole_data.head() #.head(): 상위 5개 예시"
   ]
  },
  {
   "cell_type": "markdown",
   "metadata": {},
   "source": [
    "## 4. 데이터 텍스트 전처리"
   ]
  },
  {
   "cell_type": "markdown",
   "metadata": {},
   "source": [
    "## 5. 토큰화 전처리"
   ]
  },
  {
   "cell_type": "markdown",
   "metadata": {},
   "source": [
    "## 6. 토큰화 데이터 탐색"
   ]
  },
  {
   "cell_type": "markdown",
   "metadata": {},
   "source": [
    "## 7. Term-Document Matrix"
   ]
  },
  {
   "cell_type": "code",
   "execution_count": 6,
   "metadata": {},
   "outputs": [],
   "source": [
    "vectorizer = CountVectorizer()"
   ]
  },
  {
   "cell_type": "code",
   "execution_count": 7,
   "metadata": {},
   "outputs": [
    {
     "data": {
      "text/plain": [
       "CountVectorizer(analyzer='word', binary=False, decode_error='strict',\n",
       "        dtype=<class 'numpy.int64'>, encoding='utf-8', input='content',\n",
       "        lowercase=True, max_df=1.0, max_features=None, min_df=1,\n",
       "        ngram_range=(1, 1), preprocessor=None, stop_words=None,\n",
       "        strip_accents=None, token_pattern='(?u)\\\\b\\\\w\\\\w+\\\\b',\n",
       "        tokenizer=None, vocabulary=None)"
      ]
     },
     "execution_count": 7,
     "metadata": {},
     "output_type": "execute_result"
    }
   ],
   "source": [
    "vectorizer"
   ]
  },
  {
   "cell_type": "markdown",
   "metadata": {},
   "source": [
    "### - 7.1 train / test 데이터 나누기"
   ]
  },
  {
   "cell_type": "code",
   "execution_count": 8,
   "metadata": {},
   "outputs": [
    {
     "data": {
      "text/plain": [
       "['1912',\n",
       " 'ship',\n",
       " 'set',\n",
       " 'sail',\n",
       " 'maiden',\n",
       " 'voyage',\n",
       " 'across',\n",
       " 'atlantic',\n",
       " 'america',\n",
       " 'ship',\n",
       " 'wa',\n",
       " 'built',\n",
       " 'largest',\n",
       " 'ship',\n",
       " 'world',\n",
       " 'wa',\n",
       " 'wa',\n",
       " 'also',\n",
       " 'build',\n",
       " 'one',\n",
       " 'luxurious',\n",
       " 'wa',\n",
       " 'finally',\n",
       " 'wa',\n",
       " 'built',\n",
       " 'unsinkable',\n",
       " 'unfortunately',\n",
       " 'wa',\n",
       " 'get',\n",
       " 'ticket',\n",
       " 'voyage',\n",
       " 'either',\n",
       " 'spent',\n",
       " 'life',\n",
       " 'saving',\n",
       " 'get',\n",
       " 'america',\n",
       " 'start',\n",
       " 'life',\n",
       " 'anew',\n",
       " 'part',\n",
       " 'upper',\n",
       " 'class',\n",
       " 'money',\n",
       " 'spare',\n",
       " 'finally',\n",
       " 'lucky',\n",
       " 'enough',\n",
       " 'full',\n",
       " 'house',\n",
       " 'poker',\n",
       " 'match',\n",
       " 'dock',\n",
       " 'like',\n",
       " 'jack',\n",
       " 'dawson',\n",
       " 'jack',\n",
       " 'dawson',\n",
       " 'make',\n",
       " 'trip',\n",
       " 'happens',\n",
       " 'right',\n",
       " 'place',\n",
       " 'right',\n",
       " 'time',\n",
       " 'rose',\n",
       " 'dewitt',\n",
       " 'bukater',\n",
       " 'first',\n",
       " 'class',\n",
       " 'passenger',\n",
       " 'climb',\n",
       " 'railing',\n",
       " 'aft',\n",
       " 'ship',\n",
       " 'thought',\n",
       " 'jumping',\n",
       " 'thus',\n",
       " 'started',\n",
       " 'tale',\n",
       " 'romance',\n",
       " 'intrigue',\n",
       " 'tale',\n",
       " 'death',\n",
       " 'tragedy',\n",
       " 'movie',\n",
       " 'tragic',\n",
       " 'event',\n",
       " 'took',\n",
       " 'place',\n",
       " 'great',\n",
       " 'many',\n",
       " 'year',\n",
       " 'ago',\n",
       " 'even',\n",
       " 'taken',\n",
       " 'lightly',\n",
       " 'bit',\n",
       " 'historical',\n",
       " 'trivia',\n",
       " 'movie',\n",
       " 'titanic',\n",
       " 'show',\n",
       " 'happened',\n",
       " 'maybe',\n",
       " '100',\n",
       " 'degree',\n",
       " 'accuracy',\n",
       " 'still',\n",
       " 'show',\n",
       " 'realisticaly',\n",
       " 'titanic',\n",
       " 'story',\n",
       " 'backdrop',\n",
       " 'story',\n",
       " 'serf',\n",
       " 'admirably',\n",
       " 'brining',\n",
       " 'forth',\n",
       " 'interesting',\n",
       " 'story',\n",
       " 'although',\n",
       " 'simple',\n",
       " 'simple',\n",
       " 'premise',\n",
       " 'captivating',\n",
       " 'movie',\n",
       " 'emotional',\n",
       " 'simply',\n",
       " 'alone',\n",
       " 'enough',\n",
       " 'story',\n",
       " 'brought',\n",
       " 'certain',\n",
       " 'style',\n",
       " 'make',\n",
       " 'much',\n",
       " 'emotional',\n",
       " 'much',\n",
       " 'effective',\n",
       " 'movie',\n",
       " 'forgotten',\n",
       " 'quickly',\n",
       " 'unfortunately',\n",
       " 'something',\n",
       " 'produced',\n",
       " 'hollywood',\n",
       " 'great',\n",
       " 'frequency',\n",
       " 'attention',\n",
       " 'detail',\n",
       " 'wa',\n",
       " 'paid',\n",
       " 'remarkable',\n",
       " 'whole',\n",
       " 'premise',\n",
       " 'telling',\n",
       " 'story',\n",
       " 'interesting',\n",
       " 'showing',\n",
       " 'brand',\n",
       " 'new',\n",
       " 'footage',\n",
       " 'wreck',\n",
       " 'titanic',\n",
       " 'adding',\n",
       " 'much',\n",
       " 'flavor',\n",
       " 'already',\n",
       " 'good',\n",
       " 'movie',\n",
       " 'part',\n",
       " 'magical',\n",
       " 'chemistry',\n",
       " 'behind',\n",
       " 'story',\n",
       " 'acting',\n",
       " 'movie',\n",
       " 'extremely',\n",
       " 'good',\n",
       " 'acting',\n",
       " 'whole',\n",
       " 'cast',\n",
       " 'performance',\n",
       " 'put',\n",
       " 'main',\n",
       " 'star',\n",
       " 'something',\n",
       " 'admired',\n",
       " 'character',\n",
       " 'played',\n",
       " 'memorably',\n",
       " 'leonardo',\n",
       " 'dicaprip',\n",
       " 'kate',\n",
       " 'winslet',\n",
       " 'receive',\n",
       " 'least',\n",
       " 'nomination',\n",
       " 'role',\n",
       " 'looking',\n",
       " 'acting',\n",
       " 'done',\n",
       " 'movie',\n",
       " 'seems',\n",
       " 'acting',\n",
       " 'actually',\n",
       " 'character',\n",
       " 'movie',\n",
       " 'casting',\n",
       " 'movie',\n",
       " 'could',\n",
       " 'really',\n",
       " 'better',\n",
       " 'humble',\n",
       " 'opinion',\n",
       " 'one',\n",
       " 'character',\n",
       " 'likely',\n",
       " 'mentioned',\n",
       " 'review',\n",
       " 'commentary',\n",
       " 'film',\n",
       " 'ship',\n",
       " 'yes',\n",
       " 'read',\n",
       " 'correctly',\n",
       " 'ship',\n",
       " 'character',\n",
       " 'titanic',\n",
       " 'character',\n",
       " 'ask',\n",
       " 'well',\n",
       " 'simple',\n",
       " 'ship',\n",
       " 'certain',\n",
       " 'character',\n",
       " 'sailor',\n",
       " 'boat',\n",
       " 'men',\n",
       " 'tell',\n",
       " 'character',\n",
       " 'everything',\n",
       " 'ship',\n",
       " 'specification',\n",
       " 'luxury',\n",
       " 'titanic',\n",
       " 'wa',\n",
       " 'stranger',\n",
       " 'mr',\n",
       " 'cameron',\n",
       " 'brings',\n",
       " 'ship',\n",
       " 'life',\n",
       " 'almost',\n",
       " 'literal',\n",
       " 'sense',\n",
       " 'add',\n",
       " 'movie',\n",
       " 'certain',\n",
       " 'way',\n",
       " 'hollywood',\n",
       " 'production',\n",
       " 'cant',\n",
       " 'seem',\n",
       " 'grasp',\n",
       " 'produce',\n",
       " 'effect',\n",
       " 'mentioned',\n",
       " 'sink',\n",
       " 'ship',\n",
       " 'feat',\n",
       " 'accomplished',\n",
       " 'special',\n",
       " 'effect',\n",
       " 'wizard',\n",
       " 'effect',\n",
       " 'movie',\n",
       " 'range',\n",
       " 'marvelous',\n",
       " 'costume',\n",
       " 'beautifully',\n",
       " 'rendered',\n",
       " 'scene',\n",
       " 'ship',\n",
       " 'sinking',\n",
       " 'respect',\n",
       " 'tell',\n",
       " 'effect',\n",
       " 'simply',\n",
       " 'think',\n",
       " 'see',\n",
       " 'happened',\n",
       " 'happening',\n",
       " 'imagination',\n",
       " 'good',\n",
       " 'technical',\n",
       " 'wizardry',\n",
       " 'done',\n",
       " 'movie',\n",
       " 'spectacular',\n",
       " 'actually',\n",
       " 'getting',\n",
       " 'new',\n",
       " 'footage',\n",
       " 'wreck',\n",
       " 'titanic',\n",
       " 'unique',\n",
       " 'movie',\n",
       " 'leave',\n",
       " 'amazed',\n",
       " 'effect',\n",
       " 'feat',\n",
       " 'since',\n",
       " 'monster',\n",
       " 'alien',\n",
       " 'movie',\n",
       " 'human',\n",
       " 'oversized',\n",
       " 'ship',\n",
       " 'movie',\n",
       " 'amaze',\n",
       " 'pull',\n",
       " 'emotion',\n",
       " 'theater',\n",
       " 'went',\n",
       " 'people',\n",
       " 'leaving',\n",
       " 'tear',\n",
       " 'eye',\n",
       " 'feat',\n",
       " 'accomplished',\n",
       " 'movie',\n",
       " 'fact',\n",
       " 'tragedy',\n",
       " 'actually',\n",
       " 'occurred',\n",
       " 'brought',\n",
       " 'home',\n",
       " 'something',\n",
       " 'punch',\n",
       " 'wont',\n",
       " 'spoil',\n",
       " 'ending',\n",
       " 'say',\n",
       " 'happens',\n",
       " 'regardless',\n",
       " 'interesting',\n",
       " 'movie',\n",
       " 'beginning',\n",
       " 'end',\n",
       " 'historical',\n",
       " 'value',\n",
       " 'movie',\n",
       " 'quite',\n",
       " 'high',\n",
       " 'honestly',\n",
       " 'something',\n",
       " 'watched',\n",
       " 'sake',\n",
       " 'seeing',\n",
       " 'seeing',\n",
       " 'tragedy',\n",
       " 'extremely',\n",
       " 'well',\n",
       " 'done',\n",
       " 'method',\n",
       " 'telling',\n",
       " 'story',\n",
       " 'also',\n",
       " 'good',\n",
       " 'maybe',\n",
       " 'totally',\n",
       " 'unique',\n",
       " 'effective',\n",
       " 'none',\n",
       " 'le',\n",
       " 'regardless',\n",
       " 'anything',\n",
       " 'mentioned',\n",
       " 'movie',\n",
       " 'grandiose',\n",
       " 'production',\n",
       " 'sheer',\n",
       " 'size',\n",
       " 'project',\n",
       " 'undertaken',\n",
       " 'something',\n",
       " 'marveled',\n",
       " 'simple',\n",
       " 'fact',\n",
       " 'movie',\n",
       " 'smashingly',\n",
       " 'successful',\n",
       " 'aim',\n",
       " 'achieve',\n",
       " 'astonishing',\n",
       " 'get',\n",
       " 'chance',\n",
       " 'see',\n",
       " 'movie',\n",
       " 'go',\n",
       " 'might',\n",
       " 'best',\n",
       " 'movie',\n",
       " 'world',\n",
       " 'rank',\n",
       " 'fairly',\n",
       " 'highly',\n",
       " 'well',\n",
       " 'worth',\n",
       " 'time',\n",
       " 'spent',\n",
       " 'watching',\n",
       " 'none',\n",
       " '3',\n",
       " 'hour',\n",
       " '13',\n",
       " 'minute',\n",
       " 'movie',\n",
       " 'bored',\n",
       " 'doe',\n",
       " 'attention',\n",
       " 'wane',\n",
       " 'movie']"
      ]
     },
     "execution_count": 8,
     "metadata": {},
     "output_type": "execute_result"
    }
   ],
   "source": [
    "with open('data/train_docs.txt','rb') as f:\n",
    "       train_docs=pickle.load(f)  \n",
    "        \n",
    "with open('data/test_docs.txt','rb') as f:\n",
    "       test_docs=pickle.load(f)  \n",
    "        \n",
    "        \n",
    "test_docs[0]"
   ]
  },
  {
   "cell_type": "markdown",
   "metadata": {},
   "source": [
    "### - 7.2 train_docs 의 토큰 결합"
   ]
  },
  {
   "cell_type": "code",
   "execution_count": 9,
   "metadata": {},
   "outputs": [],
   "source": [
    "train_docs = [' '.join(doc) for doc in train_docs]"
   ]
  },
  {
   "cell_type": "code",
   "execution_count": 10,
   "metadata": {},
   "outputs": [
    {
     "data": {
      "text/plain": [
       "'film adapted comic book plenty success whether superheroes batman superman spawn geared toward kid casper arthouse crowd ghost world never really comic book like hell starter wa created alan moore eddie campbell brought medium whole new level mid 80 12part series called watchman say moore campbell thoroughly researched subject jack ripper would like saying michael jackson starting look little odd book graphic novel 500 page long includes nearly 30 consist nothing footnote word dismiss film source get past whole comic book thing might find another stumbling block hell director albert allen hughes getting hughes brother direct seems almost ludicrous casting carrot top well anything riddle better direct film set ghetto feature really violent street crime mad genius behind menace ii society ghetto question course whitechapel 1888 london east end filthy sooty place whore called unfortunate starting get little nervous mysterious psychopath ha carving profession surgical precision first stiff turn copper peter godley robbie coltrane world enough call inspector frederick abberline johnny depp blow crack case abberline widower ha prophetic dream unsuccessfully try quell copious amount absinthe opium upon arriving whitechapel befriends unfortunate named mary kelly heather graham say proceeds investigate horribly gruesome crime even police surgeon stomach think anyone need briefed jack ripper go particular say moore campbell unique interesting theory identity killer reason chooses slay comic bother cloaking identity ripper screenwriter terry hayes vertical limit rafael yglesias le mi rables good job keeping hidden viewer end funny watch local blindly point finger blame jew indian englishman could never capable committing ghastly act hell ending whistling stonecutter song simpson day hold back electric carwho made steve guttenberg star worry make sense see onto hell appearance certainly dark bleak enough surprising see much look like tim burton film planet ape time seems like sleepy hollow 2 print saw completely finished color music finalized comment marilyn manson cinematographer peter deming say word ably capture dreariness victorianera london helped make flashy killing scene remind crazy flashback twin peak even though violence film pale comparison blackandwhite comic oscar winner martin child shakespeare love production design turn original prague surroundings one creepy place even acting hell solid dreamy depp turning typically strong performance deftly handling british accent ians holm joe gould secret richardson 102 dalmatian log great supporting role big surprise graham cringed first time opened mouth imagining attempt irish accent actually half bad film however good 2 00 r strong violencegore sexuality language drug content'"
      ]
     },
     "execution_count": 10,
     "metadata": {},
     "output_type": "execute_result"
    }
   ],
   "source": [
    "train_docs[0]"
   ]
  },
  {
   "cell_type": "markdown",
   "metadata": {},
   "source": [
    "### - 7.3 test_docs 의 토큰 결합"
   ]
  },
  {
   "cell_type": "code",
   "execution_count": 11,
   "metadata": {},
   "outputs": [],
   "source": [
    "test_docs = [' '.join(doc) for doc in test_docs]"
   ]
  },
  {
   "cell_type": "code",
   "execution_count": 12,
   "metadata": {
    "scrolled": true
   },
   "outputs": [
    {
     "data": {
      "text/plain": [
       "'1912 ship set sail maiden voyage across atlantic america ship wa built largest ship world wa wa also build one luxurious wa finally wa built unsinkable unfortunately wa get ticket voyage either spent life saving get america start life anew part upper class money spare finally lucky enough full house poker match dock like jack dawson jack dawson make trip happens right place right time rose dewitt bukater first class passenger climb railing aft ship thought jumping thus started tale romance intrigue tale death tragedy movie tragic event took place great many year ago even taken lightly bit historical trivia movie titanic show happened maybe 100 degree accuracy still show realisticaly titanic story backdrop story serf admirably brining forth interesting story although simple simple premise captivating movie emotional simply alone enough story brought certain style make much emotional much effective movie forgotten quickly unfortunately something produced hollywood great frequency attention detail wa paid remarkable whole premise telling story interesting showing brand new footage wreck titanic adding much flavor already good movie part magical chemistry behind story acting movie extremely good acting whole cast performance put main star something admired character played memorably leonardo dicaprip kate winslet receive least nomination role looking acting done movie seems acting actually character movie casting movie could really better humble opinion one character likely mentioned review commentary film ship yes read correctly ship character titanic character ask well simple ship certain character sailor boat men tell character everything ship specification luxury titanic wa stranger mr cameron brings ship life almost literal sense add movie certain way hollywood production cant seem grasp produce effect mentioned sink ship feat accomplished special effect wizard effect movie range marvelous costume beautifully rendered scene ship sinking respect tell effect simply think see happened happening imagination good technical wizardry done movie spectacular actually getting new footage wreck titanic unique movie leave amazed effect feat since monster alien movie human oversized ship movie amaze pull emotion theater went people leaving tear eye feat accomplished movie fact tragedy actually occurred brought home something punch wont spoil ending say happens regardless interesting movie beginning end historical value movie quite high honestly something watched sake seeing seeing tragedy extremely well done method telling story also good maybe totally unique effective none le regardless anything mentioned movie grandiose production sheer size project undertaken something marveled simple fact movie smashingly successful aim achieve astonishing get chance see movie go might best movie world rank fairly highly well worth time spent watching none 3 hour 13 minute movie bored doe attention wane movie'"
      ]
     },
     "execution_count": 12,
     "metadata": {},
     "output_type": "execute_result"
    }
   ],
   "source": [
    "test_docs[0]"
   ]
  },
  {
   "cell_type": "markdown",
   "metadata": {},
   "source": [
    "### - 7.4 Term-Document Matrix 생성 (train_x)"
   ]
  },
  {
   "cell_type": "code",
   "execution_count": 13,
   "metadata": {},
   "outputs": [],
   "source": [
    "train_x = vectorizer.fit_transform(train_docs)"
   ]
  },
  {
   "cell_type": "markdown",
   "metadata": {},
   "source": [
    "### - 7.5 Term-Document Matrix 생성 (test_x)"
   ]
  },
  {
   "cell_type": "code",
   "execution_count": 14,
   "metadata": {},
   "outputs": [],
   "source": [
    "test_x = vectorizer.transform(test_docs)"
   ]
  },
  {
   "cell_type": "markdown",
   "metadata": {},
   "source": [
    "### - 7.6 train_y와 test_y 생성"
   ]
  },
  {
   "cell_type": "code",
   "execution_count": 15,
   "metadata": {},
   "outputs": [],
   "source": [
    "train_y = whole_data.sentiment.values.tolist()[:len(train_data)]\n",
    "test_y = whole_data.sentiment.values.tolist()[-len(test_data):]"
   ]
  },
  {
   "cell_type": "markdown",
   "metadata": {},
   "source": [
    "## 8. 분류 모델 생성 및 분류 성능 구하기"
   ]
  },
  {
   "cell_type": "markdown",
   "metadata": {},
   "source": [
    "### - 8.1 SVM rbf 모델 생성 및 예측 "
   ]
  },
  {
   "cell_type": "code",
   "execution_count": 16,
   "metadata": {},
   "outputs": [
    {
     "name": "stderr",
     "output_type": "stream",
     "text": [
      "C:\\Users\\jiyoon\\Anaconda3\\lib\\site-packages\\sklearn\\svm\\base.py:196: FutureWarning: The default value of gamma will change from 'auto' to 'scale' in version 0.22 to account better for unscaled features. Set gamma explicitly to 'auto' or 'scale' to avoid this warning.\n",
      "  \"avoid this warning.\", FutureWarning)\n"
     ]
    },
    {
     "name": "stdout",
     "output_type": "stream",
     "text": [
      "0.57\n"
     ]
    }
   ],
   "source": [
    "classifier_rbf = svm.SVC()\n",
    "classifier_rbf.fit(train_x, train_y)\n",
    "prediction_rbf = classifier_rbf.predict(test_x)\n",
    "\n",
    "print(accuracy_score(test_y, prediction_rbf))"
   ]
  },
  {
   "cell_type": "markdown",
   "metadata": {},
   "source": [
    "### - 8.2. SVM linear 모델 생성 및 예측"
   ]
  },
  {
   "cell_type": "code",
   "execution_count": 17,
   "metadata": {},
   "outputs": [
    {
     "name": "stdout",
     "output_type": "stream",
     "text": [
      "0.83\n"
     ]
    }
   ],
   "source": [
    "classifier_linear = svm.SVC(kernel='linear')\n",
    "classifier_linear.fit(train_x, train_y)\n",
    "prediction_linear = classifier_linear.predict(test_x)\n",
    "\n",
    "print(accuracy_score(test_y, prediction_linear))"
   ]
  },
  {
   "cell_type": "markdown",
   "metadata": {},
   "source": [
    "### - 8.3. Random Forest 모델 생성 및 예측"
   ]
  },
  {
   "cell_type": "code",
   "execution_count": 18,
   "metadata": {
    "scrolled": false
   },
   "outputs": [
    {
     "name": "stdout",
     "output_type": "stream",
     "text": [
      "0.67\n"
     ]
    },
    {
     "name": "stderr",
     "output_type": "stream",
     "text": [
      "C:\\Users\\jiyoon\\Anaconda3\\lib\\site-packages\\sklearn\\ensemble\\forest.py:246: FutureWarning: The default value of n_estimators will change from 10 in version 0.20 to 100 in 0.22.\n",
      "  \"10 in version 0.20 to 100 in 0.22.\", FutureWarning)\n"
     ]
    }
   ],
   "source": [
    "rf = RandomForestClassifier()\n",
    "rf.fit(train_x, train_y)\n",
    "predict_rf = rf.predict(test_x)\n",
    "\n",
    "print(accuracy_score(test_y, predict_rf))"
   ]
  },
  {
   "cell_type": "markdown",
   "metadata": {},
   "source": [
    "### - 8.4. Gradient Boosting 분류 모델 생성 및 예측"
   ]
  },
  {
   "cell_type": "code",
   "execution_count": 19,
   "metadata": {},
   "outputs": [
    {
     "name": "stdout",
     "output_type": "stream",
     "text": [
      "0.795\n"
     ]
    }
   ],
   "source": [
    "gb = GradientBoostingClassifier()\n",
    "gb.fit(train_x, train_y)\n",
    "predict_gb = gb.predict(test_x)\n",
    "\n",
    "print(accuracy_score(test_y, predict_gb))"
   ]
  },
  {
   "cell_type": "markdown",
   "metadata": {},
   "source": [
    "# sentiment classification results\n",
    "# Term-Document Matrix \n",
    "\n",
    "#### - SVM rbf                         : 0.57\n",
    "#### - SVM linear                    : 0.83\n",
    "#### - Random Forest            : 0.675\n",
    "#### - Gradient Boosting       : 0.795\n",
    "\n"
   ]
  },
  {
   "cell_type": "code",
   "execution_count": null,
   "metadata": {},
   "outputs": [],
   "source": []
  },
  {
   "cell_type": "code",
   "execution_count": null,
   "metadata": {},
   "outputs": [],
   "source": []
  }
 ],
 "metadata": {
  "kernelspec": {
   "display_name": "Python 3",
   "language": "python",
   "name": "python3"
  },
  "language_info": {
   "codemirror_mode": {
    "name": "ipython",
    "version": 3
   },
   "file_extension": ".py",
   "mimetype": "text/x-python",
   "name": "python",
   "nbconvert_exporter": "python",
   "pygments_lexer": "ipython3",
   "version": "3.6.8"
  }
 },
 "nbformat": 4,
 "nbformat_minor": 2
}
