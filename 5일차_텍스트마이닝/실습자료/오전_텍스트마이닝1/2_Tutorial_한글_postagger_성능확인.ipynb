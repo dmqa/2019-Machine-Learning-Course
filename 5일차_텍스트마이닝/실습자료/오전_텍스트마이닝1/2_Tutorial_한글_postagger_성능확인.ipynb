{
 "cells": [
  {
   "cell_type": "code",
   "execution_count": null,
   "metadata": {},
   "outputs": [],
   "source": [
    "'''\n",
    "http://konlpy.org/en/latest/install/\n",
    "\n",
    "https://www.oracle.com/technetwork/java/javase/downloads/index.html\n",
    "install JDK\n",
    "\n",
    "https://www.lfd.uci.edu/~gohlke/pythonlibs/#jpype\n",
    "\n",
    "pip install C:\\Users\\leemj\\Downloads\\JPype1-0.7.0-cp37-cp37m-win_amd64.whl\n",
    "'''"
   ]
  },
  {
   "cell_type": "code",
   "execution_count": 13,
   "metadata": {},
   "outputs": [],
   "source": [
    "import re\n",
    "import konlpy\n",
    "from konlpy.tag import Hannanum, Kkma, Okt # Mecab"
   ]
  },
  {
   "cell_type": "code",
   "execution_count": 14,
   "metadata": {},
   "outputs": [],
   "source": [
    "test = [\n",
    "    '격동의 현대사 속에서 수많은 고난과 역경을 극복해 온 우리 앞에 지금 글로벌 경제 위기와 북한의 핵무장 위협과 같은 안보위기가 이어지고 있습니다.',\n",
    "    '아버지가방에들어가신다',\n",
    "    '꿀잼 ㅋㅋㅋㅋ'\n",
    "]"
   ]
  },
  {
   "cell_type": "code",
   "execution_count": 15,
   "metadata": {},
   "outputs": [],
   "source": [
    "hannanum = Hannanum()\n",
    "kkma = Kkma()\n",
    "okt = Okt()"
   ]
  },
  {
   "cell_type": "code",
   "execution_count": 17,
   "metadata": {},
   "outputs": [
    {
     "name": "stdout",
     "output_type": "stream",
     "text": [
      "['격동/N', '의/J', '현대사/N', '속/N', '에서/J', '수많/P', '은/E', '고난/N', '과/J', '역경/N', '을/J', '극복/N', '하/X', '어/E', '오/P', 'ㄴ/E', '우리/N', '앞/N', '에/J', '지금/M', '글로벌/N', '경제/N', '위/N', '이/J', '기/E', '와/J', '북한/N', '의/J', '핵무장/N', '위협/N', '과/J', '같/P', '은/E', '안보위/N', '이/J', '기/E', '가/J', '잇/P', '어/E', '지/P', '고/E', '있/P', '습니다/E', './S']\n",
      "['격동/NNG', '의/JKG', '현대사/NNG', '속/NNG', '에서/JKM', '수많/VA', '은/ETD', '고난/NNG', '과/JC', '역경/NNG', '을/JKO', '극복/NNG', '하/XSV', '어/ECS', '오/VV', 'ㄴ/ETD', '우리/NP', '앞/NNG', '에/JKM', '지금/MAG', '글로벌/NNG', '경제/NNG', '위기/NNG', '와/JKM', '북한/NNG', '의/JKG', '핵무장/NNG', '위협/NNG', '과/JKM', '같/VA', '은/ETD', '안보/NNG', '위기/NNG', '가/JKS', '이어지/VV', '고/ECE', '있/VXV', '습니다/EFN', './SF']\n",
      "['격동/Noun', '의/Josa', '현/Modifier', '대사/Noun', '속/Noun', '에서/Josa', '수많은/Adjective', '고난/Noun', '과/Josa', '역경/Noun', '을/Josa', '극복/Noun', '해/Verb', '온/Noun', '우리/Noun', '앞/Noun', '에/Josa', '지금/Noun', '글로벌/Noun', '경제/Noun', '위기/Noun', '와/Josa', '북한/Noun', '의/Josa', '핵/Noun', '무장/Noun', '위협/Noun', '과/Josa', '같은/Adjective', '안보/Noun', '위기/Noun', '가/Josa', '이어지고/Verb', '있습니다/Adjective', './Punctuation']\n",
      "\n",
      "\n",
      "['아버지가방에들어가/N', '이/J', '시ㄴ다/E']\n",
      "['아버지/NNG', '가방/NNG', '에/JKM', '들어가/VV', '시/EPH', 'ㄴ다/EFN']\n",
      "['아버지/Noun', '가방/Noun', '에/Josa', '들어가신다/Verb']\n",
      "\n",
      "\n",
      "['꿀잼/N', 'ㅋㅋㅋㅋ/N']\n",
      "['꿀/NNG', '잼/NNG', 'ㅋㅋㅋㅋ/EMO']\n",
      "['꿀잼/Noun', 'ㅋㅋㅋㅋ/KoreanParticle']\n",
      "\n",
      "\n"
     ]
    }
   ],
   "source": [
    "taggers = [hannanum, kkma, okt]\n",
    "\n",
    "for x in test:\n",
    "    out = [tagger.pos(x, join=True) for tagger in taggers]\n",
    "    for o in out:\n",
    "        print(o)\n",
    "    print('\\n')"
   ]
  },
  {
   "cell_type": "code",
   "execution_count": null,
   "metadata": {},
   "outputs": [],
   "source": []
  }
 ],
 "metadata": {
  "kernelspec": {
   "display_name": "Python 3",
   "language": "python",
   "name": "python3"
  },
  "language_info": {
   "codemirror_mode": {
    "name": "ipython",
    "version": 3
   },
   "file_extension": ".py",
   "mimetype": "text/x-python",
   "name": "python",
   "nbconvert_exporter": "python",
   "pygments_lexer": "ipython3",
   "version": "3.7.3"
  }
 },
 "nbformat": 4,
 "nbformat_minor": 2
}
