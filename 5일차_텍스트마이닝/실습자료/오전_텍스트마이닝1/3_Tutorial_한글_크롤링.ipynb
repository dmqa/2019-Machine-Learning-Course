{
 "cells": [
  {
   "cell_type": "code",
   "execution_count": 1,
   "metadata": {},
   "outputs": [],
   "source": [
    "import pandas as pd\n",
    "#작은 브라우저로 웹사이트의 내용과 정보를 불러옴\n",
    "import requests\n",
    "# 웹사이트의 html 태크를 파싱하는데 사용\n",
    "from bs4 import BeautifulSoup as bs\n",
    "import random\n",
    "import time\n",
    "# 진행 상황 표시\n",
    "from tqdm import tqdm, trange\n",
    "# 정규표현식\n",
    "import re\n",
    "import konlpy\n",
    "from konlpy.tag import Hannanum, Kkma, Okt # Mecab"
   ]
  },
  {
   "cell_type": "code",
   "execution_count": 2,
   "metadata": {},
   "outputs": [],
   "source": [
    "import warnings\n",
    "warnings.filterwarnings('ignore')"
   ]
  },
  {
   "cell_type": "code",
   "execution_count": 3,
   "metadata": {},
   "outputs": [],
   "source": [
    "import seaborn as sns\n",
    "import matplotlib.pyplot as plt\n",
    "\n",
    "#그래프 스타일 지정\n",
    "plt.style.use('seaborn') \n",
    "# ‘default’,‘dark_background’,‘classic’,‘ggplot’,‘seaborn’\n",
    "\n",
    "import matplotlib as mpl\n",
    "mpl.rcParams.update({'font.size':25})\n",
    "\n",
    "plt.rc('font',family='Malgun Gothic')\n",
    "#plt.rc('font', family='AppleGothic')\n",
    "\n",
    "%matplotlib inline"
   ]
  },
  {
   "cell_type": "code",
   "execution_count": 4,
   "metadata": {},
   "outputs": [],
   "source": [
    "def get_suggestion_list(pnum):\n",
    "    base_url = f'https://www.innogov.go.kr/ucms/ogp/sug/list.do?pnum={pnum}&menuNo=300102&cateCd=&searchText=&status1Cd=00002&Status2Cd=&sugMonthTp=&orderKey=registDtDesc'\n",
    "    response = requests.get(base_url)\n",
    "\n",
    "    if response.status_code == 200:\n",
    "        html = bs(response.text, 'html.parser')\n",
    "        tags = html.select('#content > div.suggestion_list > ul ')[0].find_all('a')\n",
    "        #print(tags)\n",
    "        if not tags:\n",
    "            return(suggestion_list)\n",
    "        else:\n",
    "            for tag in tags:\n",
    "                suggestion_list.append(tag['href'])\n",
    "        pnum += 1\n",
    "        get_suggestion_list(pnum)\n",
    "    else:\n",
    "        return(suggestion_list)"
   ]
  },
  {
   "cell_type": "code",
   "execution_count": 5,
   "metadata": {},
   "outputs": [
    {
     "name": "stdout",
     "output_type": "stream",
     "text": [
      "['/ucms/ogp/sug/view.do?menuNo=300102&sgId=158&pnum=1', '/ucms/ogp/sug/view.do?menuNo=300102&sgId=157&pnum=1', '/ucms/ogp/sug/view.do?menuNo=300102&sgId=156&pnum=1', '/ucms/ogp/sug/view.do?menuNo=300102&sgId=155&pnum=1', '/ucms/ogp/sug/view.do?menuNo=300102&sgId=154&pnum=1', '/ucms/ogp/sug/view.do?menuNo=300102&sgId=153&pnum=2', '/ucms/ogp/sug/view.do?menuNo=300102&sgId=152&pnum=2', '/ucms/ogp/sug/view.do?menuNo=300102&sgId=151&pnum=2', '/ucms/ogp/sug/view.do?menuNo=300102&sgId=150&pnum=2', '/ucms/ogp/sug/view.do?menuNo=300102&sgId=149&pnum=2']\n",
      "123\n"
     ]
    }
   ],
   "source": [
    "suggestion_list = []\n",
    "pnum = 1\n",
    "\n",
    "get_suggestion_list(pnum)\n",
    "print(suggestion_list[:10])\n",
    "print(len(suggestion_list))"
   ]
  },
  {
   "cell_type": "code",
   "execution_count": 6,
   "metadata": {},
   "outputs": [],
   "source": [
    "def get_suggestion_content(url):\n",
    "    article = []\n",
    "    base_url = base_url = f'https://www.innogov.go.kr{url}'\n",
    "    response = requests.get(base_url)\n",
    "    if response.status_code == 200:\n",
    "        html = bs(response.text, 'html.parser')\n",
    "        title = html.select('#content > div.vveiw_box1 > dl > dt')[0].get_text(strip=True)\n",
    "        meta = html.select('#content > div.vveiw_box1 > div.vveiw_name > ul > li > dl > dd')\n",
    "        category = meta[0].get_text(strip=True)\n",
    "        start = meta[1].get_text(strip=True)\n",
    "        end = meta[2].get_text(strip=True)\n",
    "        author = meta[3].get_text(strip=True)\n",
    "        vote = html.select('#counter')[0].get_text(strip=True)\n",
    "        sgId = url.split('=')[2].split('&')[0]\n",
    "        \n",
    "        content = html.select('#content > div.vveiw_box1 > div.vveiw_cont > div > pre')[0].get_text(strip=True)\n",
    "        \n",
    "        article.append(sgId)\n",
    "        article.append(title)\n",
    "        article.append(category)\n",
    "        article.append(content)\n",
    "        article.append(start)\n",
    "        article.append(end)\n",
    "        article.append(vote)\n",
    "        article.append(author)\n",
    "        \n",
    "        time.sleep(random.randint(1,2))\n",
    "        return article"
   ]
  },
  {
   "cell_type": "code",
   "execution_count": 7,
   "metadata": {},
   "outputs": [
    {
     "name": "stderr",
     "output_type": "stream",
     "text": [
      "123it [03:50,  1.92s/it]\n"
     ]
    }
   ],
   "source": [
    "data = []\n",
    "for i, suggestion in tqdm(enumerate(suggestion_list)):\n",
    "    s = get_suggestion_content(suggestion)\n",
    "    data.append(s)"
   ]
  },
  {
   "cell_type": "code",
   "execution_count": 12,
   "metadata": {},
   "outputs": [
    {
     "data": {
      "text/plain": [
       "['sgId', 'title', 'category', 'content', 'start', 'end', 'vote', 'author']"
      ]
     },
     "execution_count": 12,
     "metadata": {},
     "output_type": "execute_result"
    }
   ],
   "source": [
    "col_names = ['sgId','title','category','content','start','end','vote','author']\n",
    "col_names"
   ]
  },
  {
   "cell_type": "code",
   "execution_count": 13,
   "metadata": {},
   "outputs": [
    {
     "data": {
      "text/html": [
       "<div>\n",
       "<style scoped>\n",
       "    .dataframe tbody tr th:only-of-type {\n",
       "        vertical-align: middle;\n",
       "    }\n",
       "\n",
       "    .dataframe tbody tr th {\n",
       "        vertical-align: top;\n",
       "    }\n",
       "\n",
       "    .dataframe thead th {\n",
       "        text-align: right;\n",
       "    }\n",
       "</style>\n",
       "<table border=\"1\" class=\"dataframe\">\n",
       "  <thead>\n",
       "    <tr style=\"text-align: right;\">\n",
       "      <th></th>\n",
       "      <th>sgId</th>\n",
       "      <th>title</th>\n",
       "      <th>category</th>\n",
       "      <th>content</th>\n",
       "      <th>start</th>\n",
       "      <th>end</th>\n",
       "      <th>vote</th>\n",
       "      <th>author</th>\n",
       "    </tr>\n",
       "  </thead>\n",
       "  <tbody>\n",
       "    <tr>\n",
       "      <th>0</th>\n",
       "      <td>158</td>\n",
       "      <td>아이돌보미 서비스에 대한 건의 입니다.</td>\n",
       "      <td>보건복지</td>\n",
       "      <td>육아 복지 서비스 중의 하나인 \"아이돌보미\"서비스에 대한 의견입니다.아이돌보미 서비...</td>\n",
       "      <td>2019.03.19</td>\n",
       "      <td>2019.06.16</td>\n",
       "      <td>9</td>\n",
       "      <td>디딤돌</td>\n",
       "    </tr>\n",
       "    <tr>\n",
       "      <th>1</th>\n",
       "      <td>157</td>\n",
       "      <td>행정부와 사법부간 전자문서 유통시스템 구축</td>\n",
       "      <td>일반행정</td>\n",
       "      <td>행정부(중앙, 지방)에서는 온나라 전자문서 시스템을 통해 공문을 주고 받을 수 있습...</td>\n",
       "      <td>2019.03.13</td>\n",
       "      <td>2019.06.10</td>\n",
       "      <td>6</td>\n",
       "      <td>한들바람</td>\n",
       "    </tr>\n",
       "    <tr>\n",
       "      <th>2</th>\n",
       "      <td>156</td>\n",
       "      <td>따뜻한 공동체 활성화를 위한 거점 공간 마련 필요.</td>\n",
       "      <td>공동체</td>\n",
       "      <td>○최근 동아리 및 모임시 함께 회의나 공동으로 모여서 이용할 수 있는 공간에 대한 ...</td>\n",
       "      <td>2019.03.08</td>\n",
       "      <td>2019.06.05</td>\n",
       "      <td>5</td>\n",
       "      <td>마이쭈샘</td>\n",
       "    </tr>\n",
       "    <tr>\n",
       "      <th>3</th>\n",
       "      <td>155</td>\n",
       "      <td>미세 먼지 저감 아이디어 - 자동차가 공기 청정기가 된다면?</td>\n",
       "      <td>환경</td>\n",
       "      <td>아래와 같이 정리했듯이 자동차를 공해의 주범이 아닌 공기 청정의 주역으로 바꾸는 아...</td>\n",
       "      <td>2019.03.07</td>\n",
       "      <td>2019.06.04</td>\n",
       "      <td>4</td>\n",
       "      <td>봉팔버미</td>\n",
       "    </tr>\n",
       "    <tr>\n",
       "      <th>4</th>\n",
       "      <td>154</td>\n",
       "      <td>담당자 제멋대로 운영되는 중소기업진흥공단(경기본부)의 정책자금 운영</td>\n",
       "      <td>국민참여</td>\n",
       "      <td>이번 정부 들어와서는 타 정부와는 다르게 규제혁신을 줄곧 추진하고있다하지만 실무에서...</td>\n",
       "      <td>2019.03.06</td>\n",
       "      <td>2019.06.03</td>\n",
       "      <td>4</td>\n",
       "      <td>포동이</td>\n",
       "    </tr>\n",
       "  </tbody>\n",
       "</table>\n",
       "</div>"
      ],
      "text/plain": [
       "  sgId                                  title category  \\\n",
       "0  158                  아이돌보미 서비스에 대한 건의 입니다.     보건복지   \n",
       "1  157                행정부와 사법부간 전자문서 유통시스템 구축     일반행정   \n",
       "2  156           따뜻한 공동체 활성화를 위한 거점 공간 마련 필요.      공동체   \n",
       "3  155      미세 먼지 저감 아이디어 - 자동차가 공기 청정기가 된다면?       환경   \n",
       "4  154  담당자 제멋대로 운영되는 중소기업진흥공단(경기본부)의 정책자금 운영     국민참여   \n",
       "\n",
       "                                             content       start         end  \\\n",
       "0  육아 복지 서비스 중의 하나인 \"아이돌보미\"서비스에 대한 의견입니다.아이돌보미 서비...  2019.03.19  2019.06.16   \n",
       "1  행정부(중앙, 지방)에서는 온나라 전자문서 시스템을 통해 공문을 주고 받을 수 있습...  2019.03.13  2019.06.10   \n",
       "2  ○최근 동아리 및 모임시 함께 회의나 공동으로 모여서 이용할 수 있는 공간에 대한 ...  2019.03.08  2019.06.05   \n",
       "3  아래와 같이 정리했듯이 자동차를 공해의 주범이 아닌 공기 청정의 주역으로 바꾸는 아...  2019.03.07  2019.06.04   \n",
       "4  이번 정부 들어와서는 타 정부와는 다르게 규제혁신을 줄곧 추진하고있다하지만 실무에서...  2019.03.06  2019.06.03   \n",
       "\n",
       "  vote author  \n",
       "0    9    디딤돌  \n",
       "1    6   한들바람  \n",
       "2    5   마이쭈샘  \n",
       "3    4   봉팔버미  \n",
       "4    4    포동이  "
      ]
     },
     "execution_count": 13,
     "metadata": {},
     "output_type": "execute_result"
    }
   ],
   "source": [
    "data = pd.DataFrame(data,columns=col_names)\n",
    "data.head()"
   ]
  },
  {
   "cell_type": "code",
   "execution_count": 14,
   "metadata": {},
   "outputs": [
    {
     "data": {
      "text/plain": [
       "일반행정     22\n",
       "기타       22\n",
       "보건복지     17\n",
       "안전       15\n",
       "상생협력     10\n",
       "인권/평등     9\n",
       "국민참여      8\n",
       "반부패청렴     6\n",
       "환경        6\n",
       "사회통합      5\n",
       "공동체       3\n",
       "Name: category, dtype: int64"
      ]
     },
     "execution_count": 14,
     "metadata": {},
     "output_type": "execute_result"
    }
   ],
   "source": [
    "data['category'].value_counts()"
   ]
  },
  {
   "cell_type": "code",
   "execution_count": 15,
   "metadata": {},
   "outputs": [],
   "source": [
    "data.to_csv('suggestion.csv',index=False,encoding='utf-8')\n",
    "# data = pd.read_csv('suggestion.csv',encoding='utf-8')"
   ]
  }
 ],
 "metadata": {
  "kernelspec": {
   "display_name": "Python 3",
   "language": "python",
   "name": "python3"
  },
  "language_info": {
   "codemirror_mode": {
    "name": "ipython",
    "version": 3
   },
   "file_extension": ".py",
   "mimetype": "text/x-python",
   "name": "python",
   "nbconvert_exporter": "python",
   "pygments_lexer": "ipython3",
   "version": "3.7.3"
  }
 },
 "nbformat": 4,
 "nbformat_minor": 2
}
